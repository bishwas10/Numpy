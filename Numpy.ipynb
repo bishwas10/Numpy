{
 "cells": [
  {
   "cell_type": "markdown",
   "id": "1941b642-b63b-4013-9668-8b03fff35ef5",
   "metadata": {},
   "source": [
    "Numpy\n"
   ]
  },
  {
   "cell_type": "code",
   "execution_count": 1,
   "id": "5105f5df-bc1d-44d6-a3a8-3d91aa3ca21a",
   "metadata": {},
   "outputs": [],
   "source": [
    "# Numpy is the fundamental package for scientific computing in Python.\n",
    "# NumPy is a python library that provides a multidimensional array object, various derived objects."
   ]
  },
  {
   "cell_type": "markdown",
   "id": "ab9f2383-bd8d-4c2c-acc7-01d51af28634",
   "metadata": {},
   "source": [
    "What is NumPy Array ?"
   ]
  },
  {
   "cell_type": "code",
   "execution_count": 3,
   "id": "61f8798a-9727-4440-af9f-fc745fcf7bd7",
   "metadata": {},
   "outputs": [],
   "source": [
    "#An array is a grid of values and it contains information about the raw data , how to locate an element , \n",
    "#how to interpret an element."
   ]
  },
  {
   "cell_type": "markdown",
   "id": "71736efd-21ac-4ac4-8d46-c0ca076557db",
   "metadata": {},
   "source": [
    " Advantages of Numpy vs python list"
   ]
  },
  {
   "cell_type": "code",
   "execution_count": 4,
   "id": "fa5dbb3d-8c71-4545-8f87-9323c2e5d017",
   "metadata": {},
   "outputs": [],
   "source": [
    " # consumes less memory \n",
    "# fast as compared to the python list\n",
    "# convenient to use"
   ]
  },
  {
   "cell_type": "code",
   "execution_count": 9,
   "id": "5f36fc5d-e1a5-464a-82fd-d9706838c7ce",
   "metadata": {},
   "outputs": [
    {
     "name": "stdout",
     "output_type": "stream",
     "text": [
      "[1 2 3 4]\n",
      "<class 'numpy.ndarray'>\n"
     ]
    }
   ],
   "source": [
    "import numpy as np\n",
    "x = np.array([1,2,3,4])\n",
    "print (x)\n",
    "print(type(x))"
   ]
  },
  {
   "cell_type": "code",
   "execution_count": 10,
   "id": "e1007dc3-bdb1-4441-a8dc-4e8e1df6746d",
   "metadata": {},
   "outputs": [
    {
     "name": "stdout",
     "output_type": "stream",
     "text": [
      "[1, 2, 3, 4]\n",
      "<class 'list'>\n"
     ]
    }
   ],
   "source": [
    " y = [1,2,3,4]\n",
    "print(y)\n",
    "print(type(y))"
   ]
  },
  {
   "cell_type": "markdown",
   "id": "4d37570f-3516-4c78-b022-959404344a40",
   "metadata": {},
   "source": [
    "Numpy Array vs List"
   ]
  },
  {
   "cell_type": "code",
   "execution_count": 11,
   "id": "16c0260b-a800-42b8-aeaf-8160e5e7a941",
   "metadata": {},
   "outputs": [],
   "source": [
    "# data types storage\n",
    "# importing module # package of numpy should be installed and import\n",
    "# Numerical Operation\n",
    "# Modification capabitlites\n",
    "#consumes less memory\n",
    "# Fast as compared to the Python list\n",
    "# convenient to use"
   ]
  },
  {
   "cell_type": "markdown",
   "id": "5d27f518-8c6b-4757-bcc5-bf38ad018085",
   "metadata": {},
   "source": [
    "How to create Numpy Array"
   ]
  },
  {
   "cell_type": "code",
   "execution_count": 12,
   "id": "76bd9104-9926-43a4-ac40-69b236425b8a",
   "metadata": {},
   "outputs": [
    {
     "name": "stdout",
     "output_type": "stream",
     "text": [
      "[1 2 3]\n"
     ]
    }
   ],
   "source": [
    "import numpy as np\n",
    "a = np.array([1,2,3])\n",
    "print(a)"
   ]
  },
  {
   "cell_type": "code",
   "execution_count": 13,
   "id": "d506ffea-868d-4ff7-b369-43a607596f7c",
   "metadata": {},
   "outputs": [
    {
     "name": "stdout",
     "output_type": "stream",
     "text": [
      "[1 2 3 4]\n"
     ]
    }
   ],
   "source": [
    "import numpy as np\n",
    "x = [1,2,3,4]\n",
    "y = np.array(x)\n",
    "print(y)"
   ]
  },
  {
   "cell_type": "code",
   "execution_count": 19,
   "id": "2b40c158-c5ac-43cf-8a8b-52e0246c59d3",
   "metadata": {},
   "outputs": [
    {
     "name": "stdin",
     "output_type": "stream",
     "text": [
      "Enter the data: 11\n",
      "Enter the data: 12\n",
      "Enter the data: 13\n",
      "Enter the data: 14\n"
     ]
    },
    {
     "name": "stdout",
     "output_type": "stream",
     "text": [
      "[11 12 13 14]\n"
     ]
    }
   ],
   "source": [
    "l = []\n",
    "for i in range (1,5):\n",
    "     data = int(input(\"Enter the data:\"))\n",
    "     l.append(data)\n",
    "print(np.array(l))"
   ]
  },
  {
   "cell_type": "markdown",
   "id": "d51f7865-634a-4ed2-9a00-dbb07ff84935",
   "metadata": {},
   "source": [
    "Dimensions in Array"
   ]
  },
  {
   "cell_type": "code",
   "execution_count": 20,
   "id": "67f41b78-e8c4-4bba-a01e-4ba44977d901",
   "metadata": {},
   "outputs": [
    {
     "name": "stdout",
     "output_type": "stream",
     "text": [
      "[1 2 3 4 5]\n",
      "<class 'numpy.ndarray'>\n",
      "1\n"
     ]
    }
   ],
   "source": [
    "import numpy as np\n",
    "x = [1,2,3,4]\n",
    "y = np.array([1,2,3,4,5])\n",
    "print(y)\n",
    "print(type(y))\n",
    "print(y.ndim)\n"
   ]
  },
  {
   "cell_type": "code",
   "execution_count": 21,
   "id": "9a20a862-53f5-4349-adc5-f34f6ac562d6",
   "metadata": {},
   "outputs": [
    {
     "name": "stdout",
     "output_type": "stream",
     "text": [
      "[[1 2 3 4]]\n",
      "2\n"
     ]
    }
   ],
   "source": [
    "ar2 = np.array([[1,2,3,4]])\n",
    "print (ar2)\n",
    "print(ar2.ndim)"
   ]
  },
  {
   "cell_type": "code",
   "execution_count": 22,
   "id": "05de056f-d7e2-40a1-a85d-0ad1ce8e73f3",
   "metadata": {},
   "outputs": [
    {
     "name": "stdout",
     "output_type": "stream",
     "text": [
      "[[[1 2 3 4]]]\n",
      "3\n"
     ]
    }
   ],
   "source": [
    "ar3 = np.array([[[1,2,3,4]]])\n",
    "print (ar3)\n",
    "print(ar3.ndim)"
   ]
  },
  {
   "cell_type": "code",
   "execution_count": 23,
   "id": "e9bec37d-a37f-46e4-ac8f-935b0ba7aa04",
   "metadata": {},
   "outputs": [
    {
     "name": "stdout",
     "output_type": "stream",
     "text": [
      "[[[[[[[[[[1 2 3 4]]]]]]]]]]\n",
      "10\n"
     ]
    }
   ],
   "source": [
    "arn = np.array([1,2,3,4], ndmin = 10)\n",
    "print (arn)\n",
    "print(arn.ndim)"
   ]
  },
  {
   "cell_type": "markdown",
   "id": "acc9d874-d66f-485d-b4a0-df3c212724b3",
   "metadata": {},
   "source": [
    "How to create Numpy Array using Numpy Function"
   ]
  },
  {
   "cell_type": "markdown",
   "id": "8b428460-4186-43bd-b207-430ba6a1fe63",
   "metadata": {},
   "source": [
    "Zeros"
   ]
  },
  {
   "cell_type": "code",
   "execution_count": 27,
   "id": "1ac77b17-fa4c-453e-8f90-43ef40100a85",
   "metadata": {},
   "outputs": [
    {
     "name": "stdout",
     "output_type": "stream",
     "text": [
      "[[0. 0. 0. 0.]\n",
      " [0. 0. 0. 0.]\n",
      " [0. 0. 0. 0.]]\n",
      "\n",
      "[0. 0. 0. 0.]\n"
     ]
    }
   ],
   "source": [
    "import numpy as np\n",
    "ar_zero = np.zeros(4)\n",
    "ar_zero1 =np.zeros((3,4))\n",
    "print(ar_zero1)\n",
    "print()\n",
    "print(ar_zero)"
   ]
  },
  {
   "cell_type": "markdown",
   "id": "008c78ed-98b7-42f4-88b8-bf60fb56ce3b",
   "metadata": {},
   "source": [
    "Ones"
   ]
  },
  {
   "cell_type": "code",
   "execution_count": 29,
   "id": "0d0a668a-d7aa-4d71-b61f-a3ee63ba4fbe",
   "metadata": {},
   "outputs": [
    {
     "name": "stdout",
     "output_type": "stream",
     "text": [
      "[1. 1. 1. 1.]\n"
     ]
    }
   ],
   "source": [
    "ar_one = np.ones(4)\n",
    "print(ar_one)"
   ]
  },
  {
   "cell_type": "markdown",
   "id": "ed95d1db-b8aa-4f8a-8643-5e25d1f60d59",
   "metadata": {},
   "source": [
    "Empty array"
   ]
  },
  {
   "cell_type": "code",
   "execution_count": 30,
   "id": "1c184aa9-6d87-4be9-87a8-716cfa579859",
   "metadata": {},
   "outputs": [
    {
     "name": "stdout",
     "output_type": "stream",
     "text": [
      "[1. 1. 1. 1.]\n"
     ]
    }
   ],
   "source": [
    "ar_em = np.empty(4)\n",
    "print(ar_em)"
   ]
  },
  {
   "cell_type": "markdown",
   "id": "741f12d6-c8bd-42c8-8de6-ad87ea4be54f",
   "metadata": {},
   "source": [
    "Range"
   ]
  },
  {
   "cell_type": "code",
   "execution_count": 31,
   "id": "31e0c889-10db-4ce9-83f9-80b17a88505c",
   "metadata": {},
   "outputs": [
    {
     "name": "stdout",
     "output_type": "stream",
     "text": [
      "[0 1 2 3]\n"
     ]
    }
   ],
   "source": [
    "ar_range = np.arange(4)\n",
    "print(ar_range)"
   ]
  },
  {
   "cell_type": "markdown",
   "id": "d7808341-9e2e-4fec-af35-c682d1c2d0f6",
   "metadata": {},
   "source": [
    "Array diagonal element with 1"
   ]
  },
  {
   "cell_type": "code",
   "execution_count": 32,
   "id": "afd6f345-a0c8-4679-9171-c926e8039040",
   "metadata": {},
   "outputs": [
    {
     "name": "stdout",
     "output_type": "stream",
     "text": [
      "[[1. 0. 0.]\n",
      " [0. 1. 0.]\n",
      " [0. 0. 1.]]\n"
     ]
    }
   ],
   "source": [
    "ar_dia = np.eye(3)\n",
    "print (ar_dia)"
   ]
  },
  {
   "cell_type": "code",
   "execution_count": 33,
   "id": "842832a0-65a9-4b9c-a959-870f10ff49dc",
   "metadata": {},
   "outputs": [
    {
     "name": "stdout",
     "output_type": "stream",
     "text": [
      "[[1. 0. 0. 0. 0.]\n",
      " [0. 1. 0. 0. 0.]\n",
      " [0. 0. 1. 0. 0.]]\n"
     ]
    }
   ],
   "source": [
    "ar_dia = np.eye(3,5)\n",
    "print (ar_dia)"
   ]
  },
  {
   "cell_type": "code",
   "execution_count": 34,
   "id": "78faf72a-a1a5-4031-b760-b3902f0132f3",
   "metadata": {},
   "outputs": [
    {
     "name": "stdout",
     "output_type": "stream",
     "text": [
      "[[1. 0. 0. 0.]\n",
      " [0. 1. 0. 0.]\n",
      " [0. 0. 1. 0.]\n",
      " [0. 0. 0. 1.]]\n"
     ]
    }
   ],
   "source": [
    "ar_dia = np.eye(4,4) # Identity Matrix\n",
    "print (ar_dia)"
   ]
  },
  {
   "cell_type": "markdown",
   "id": "e08b0173-627e-467d-9279-9f883e918d18",
   "metadata": {},
   "source": [
    "linspace"
   ]
  },
  {
   "cell_type": "code",
   "execution_count": 40,
   "id": "e3cdfdb5-533c-424c-b7e9-0188a1f9bcca",
   "metadata": {},
   "outputs": [
    {
     "name": "stdout",
     "output_type": "stream",
     "text": [
      "[ 0.  5. 10. 15. 20.]\n"
     ]
    }
   ],
   "source": [
    "ar_lin = np.linspace(0,20, num =5)\n",
    "print(ar_lin)"
   ]
  },
  {
   "cell_type": "markdown",
   "id": "92af4b07-128b-4af5-baa0-2e2bd0dc1487",
   "metadata": {},
   "source": [
    "How to create Numpy Arrays with Random Numbers"
   ]
  },
  {
   "cell_type": "code",
   "execution_count": 41,
   "id": "d57ba250-9cd5-4dc2-b60a-0340b273e9e0",
   "metadata": {},
   "outputs": [],
   "source": [
    " #rand() : The function is used to generate a random value between 0 to 1\n",
    "#randn () : the function  is used to generate a random value close to zero.\n",
    "             #This may return positive or negative numbers as well."
   ]
  },
  {
   "cell_type": "markdown",
   "id": "94c8dcb9-1265-41d6-a372-5ae873127ce4",
   "metadata": {},
   "source": [
    "Random"
   ]
  },
  {
   "cell_type": "markdown",
   "id": "165d5423-1871-4358-b3f5-53a4511936a3",
   "metadata": {},
   "source": [
    "rand()"
   ]
  },
  {
   "cell_type": "code",
   "execution_count": 43,
   "id": "3c040c16-9eaa-4908-a392-106d013f4658",
   "metadata": {},
   "outputs": [
    {
     "name": "stdout",
     "output_type": "stream",
     "text": [
      "[0.98121028 0.5794416  0.57375109 0.20337064]\n"
     ]
    }
   ],
   "source": [
    "import numpy as np\n",
    "var = np.random.rand(4)\n",
    "print(var)"
   ]
  },
  {
   "cell_type": "code",
   "execution_count": 44,
   "id": "846687c2-7e47-47c8-8648-00f26f38ca7c",
   "metadata": {},
   "outputs": [
    {
     "name": "stdout",
     "output_type": "stream",
     "text": [
      "[[0.175579   0.11247947 0.57118303 0.72054716 0.33955226]\n",
      " [0.34581405 0.5919939  0.43797519 0.85635592 0.39537577]]\n"
     ]
    }
   ],
   "source": [
    "import numpy as np\n",
    "var1 = np.random.rand(2,5)\n",
    "print(var1)"
   ]
  },
  {
   "cell_type": "markdown",
   "id": "13a4f03b-6f5e-421a-b74b-0ef6bc08881f",
   "metadata": {},
   "source": [
    "randn()"
   ]
  },
  {
   "cell_type": "code",
   "execution_count": 45,
   "id": "20d0c776-8d89-4f42-bb35-c738f0acc279",
   "metadata": {},
   "outputs": [
    {
     "name": "stdout",
     "output_type": "stream",
     "text": [
      "[ 0.95453253  2.07535817 -0.45313196  0.9732653   0.52137774]\n"
     ]
    }
   ],
   "source": [
    "var2 = np.random.randn(5)\n",
    "print(var2)"
   ]
  },
  {
   "cell_type": "markdown",
   "id": "6ac99c5c-ebb3-48b8-8f92-f23e15a23824",
   "metadata": {},
   "source": [
    "ranf()"
   ]
  },
  {
   "cell_type": "code",
   "execution_count": 46,
   "id": "de56389e-b997-4e7e-9144-b4098faa23d2",
   "metadata": {},
   "outputs": [],
   "source": [
    "# ranf() is the function for doing random sampling in numpy . It returns an array of specified shape and\n",
    "# fills it with random floats in the half open interval [0.0  , 1,0)"
   ]
  },
  {
   "cell_type": "code",
   "execution_count": 47,
   "id": "9297a335-9340-4b9f-93fc-2c9d35054ecd",
   "metadata": {},
   "outputs": [
    {
     "name": "stdout",
     "output_type": "stream",
     "text": [
      "[0.84756537 0.68624051 0.59054328 0.32781834]\n"
     ]
    }
   ],
   "source": [
    "var3 = np.random.ranf(4)\n",
    "print(var3)"
   ]
  },
  {
   "cell_type": "markdown",
   "id": "47e134d4-5f47-4bed-978e-82b16613b44d",
   "metadata": {},
   "source": [
    "randint()"
   ]
  },
  {
   "cell_type": "code",
   "execution_count": 48,
   "id": "831d16a3-8593-4adc-9aef-d5b063ff61cf",
   "metadata": {},
   "outputs": [],
   "source": [
    "#rand() : The function is used to generate a random number between a given range."
   ]
  },
  {
   "cell_type": "code",
   "execution_count": 50,
   "id": "29357dd6-bfeb-426e-88ef-e79ee7aa723d",
   "metadata": {},
   "outputs": [
    {
     "name": "stdout",
     "output_type": "stream",
     "text": [
      "[13 18 16  5  8]\n"
     ]
    }
   ],
   "source": [
    "var4 =np.random.randint(5,20,5)  # (min, max, total values)\n",
    "print(var4)"
   ]
  },
  {
   "cell_type": "markdown",
   "id": "3c17d6e9-e657-4860-9d5b-e2bceab6ee09",
   "metadata": {},
   "source": [
    "What is data type in numpy array ?"
   ]
  },
  {
   "cell_type": "code",
   "execution_count": 51,
   "id": "0c67e4d0-5c23-4e9b-bb57-e3b5114a8486",
   "metadata": {},
   "outputs": [
    {
     "name": "stdout",
     "output_type": "stream",
     "text": [
      "Data Type :  int32\n"
     ]
    }
   ],
   "source": [
    "import numpy as np\n",
    "var= np.array([1,2,3,4])\n",
    "print (\"Data Type : \", var.dtype)"
   ]
  },
  {
   "cell_type": "code",
   "execution_count": 52,
   "id": "45137adc-8380-4a79-a71b-a776ef7763a0",
   "metadata": {},
   "outputs": [
    {
     "name": "stdout",
     "output_type": "stream",
     "text": [
      "Data Type :  float64\n"
     ]
    }
   ],
   "source": [
    "import numpy as np\n",
    "var= np.array([1.2,3,2.4,3.4,4.5])\n",
    "print (\"Data Type : \", var.dtype)"
   ]
  },
  {
   "cell_type": "code",
   "execution_count": 1,
   "id": "87c56256-6596-400b-893d-247d20624472",
   "metadata": {},
   "outputs": [
    {
     "ename": "NameError",
     "evalue": "name 'np' is not defined",
     "output_type": "error",
     "traceback": [
      "\u001b[1;31m---------------------------------------------------------------------------\u001b[0m",
      "\u001b[1;31mNameError\u001b[0m                                 Traceback (most recent call last)",
      "Cell \u001b[1;32mIn[1], line 1\u001b[0m\n\u001b[1;32m----> 1\u001b[0m x \u001b[38;5;241m=\u001b[39mnp\u001b[38;5;241m.\u001b[39marray([\u001b[38;5;241m1\u001b[39m,\u001b[38;5;241m2\u001b[39m,\u001b[38;5;241m3\u001b[39m,\u001b[38;5;241m4\u001b[39m])\n",
      "\u001b[1;31mNameError\u001b[0m: name 'np' is not defined"
     ]
    }
   ],
   "source": [
    "x =np.array([1,2,3,4])"
   ]
  },
  {
   "cell_type": "markdown",
   "id": "2730308f-328c-4d73-94ca-09cf8d0039df",
   "metadata": {},
   "source": [
    "What are arithmetic operators"
   ]
  },
  {
   "cell_type": "code",
   "execution_count": 3,
   "id": "e51206c7-4a83-4d79-98f2-18d483ca3cb9",
   "metadata": {},
   "outputs": [
    {
     "name": "stdout",
     "output_type": "stream",
     "text": [
      "[4 5 6 7]\n"
     ]
    }
   ],
   "source": [
    "# Add\n",
    "import numpy as np\n",
    "var = np.array([1,2,3,4])\n",
    "varadd = var + 3\n",
    "print (varadd)"
   ]
  },
  {
   "cell_type": "code",
   "execution_count": 4,
   "id": "f6861c6d-a63e-45d4-824f-b361d5b42cd9",
   "metadata": {},
   "outputs": [
    {
     "name": "stdout",
     "output_type": "stream",
     "text": [
      "[2 4 6 8]\n"
     ]
    }
   ],
   "source": [
    "var1 = np.array([1,2,3,4])\n",
    "var2 =np .array([1,2,3,4])\n",
    "varadd = var1 + var2\n",
    "print (varadd)"
   ]
  },
  {
   "cell_type": "code",
   "execution_count": 5,
   "id": "68b520fa-e1dd-4fe7-9629-f7fbcd562083",
   "metadata": {},
   "outputs": [
    {
     "name": "stdout",
     "output_type": "stream",
     "text": [
      "[-2 -1  0  1]\n"
     ]
    }
   ],
   "source": [
    "var = np.array([1,2,3,4])\n",
    "varadd = var - 3\n",
    "print (varadd)"
   ]
  },
  {
   "cell_type": "code",
   "execution_count": 6,
   "id": "a4ca805e-186b-4c8a-b271-2dcc4cf14b16",
   "metadata": {},
   "outputs": [
    {
     "name": "stdout",
     "output_type": "stream",
     "text": [
      "[ 3  6  9 12]\n"
     ]
    }
   ],
   "source": [
    "var = np.array([1,2,3,4])\n",
    "varadd = var * 3\n",
    "print (varadd)"
   ]
  },
  {
   "cell_type": "code",
   "execution_count": 7,
   "id": "15cf36a9-26e9-4682-a64c-0fc75816ac4e",
   "metadata": {},
   "outputs": [
    {
     "name": "stdout",
     "output_type": "stream",
     "text": [
      "[1 2 0 1]\n"
     ]
    }
   ],
   "source": [
    "var = np.array([1,2,3,4])\n",
    "varadd = var % 3\n",
    "print (varadd)"
   ]
  },
  {
   "cell_type": "code",
   "execution_count": 8,
   "id": "4d00c3c0-2af4-43ee-9baa-94b9bfccb0fc",
   "metadata": {},
   "outputs": [
    {
     "name": "stdout",
     "output_type": "stream",
     "text": [
      "[2 4 6 8]\n"
     ]
    }
   ],
   "source": [
    "var1 = np.array([1,2,3,4])\n",
    "var2 =np .array([1,2,3,4])\n",
    "varadd = np.add(var1, var2)\n",
    "print(varadd)"
   ]
  },
  {
   "cell_type": "markdown",
   "id": "708fc26a-693f-49f2-b6c7-766d755d6d4a",
   "metadata": {},
   "source": [
    "2D Array"
   ]
  },
  {
   "cell_type": "code",
   "execution_count": 13,
   "id": "8e314fd4-6ebf-4d83-b17a-70ca9cb4b544",
   "metadata": {},
   "outputs": [
    {
     "name": "stdout",
     "output_type": "stream",
     "text": [
      "[[1 2 3 4]\n",
      " [1 2 3 4]]\n",
      "\n",
      "[[1 2 3 4]\n",
      " [1 2 3 4]]\n",
      "\n",
      "\n",
      "[[2 4 6 8]\n",
      " [2 4 6 8]]\n"
     ]
    }
   ],
   "source": [
    "var21 = np.array([[1,2,3,4],[1,2,3,4]])\n",
    "var22 = np.array ([[1,2,3,4],[1,2,3,4]])\n",
    "print(var21)\n",
    "print()\n",
    "print(var22)\n",
    "print()\n",
    "\n",
    "print()\n",
    "varadd2 = var21 + var22\n",
    "print(varadd2)\n",
    "\n"
   ]
  },
  {
   "cell_type": "markdown",
   "id": "f8d84d97-5003-45f2-a4d3-10440162ef5d",
   "metadata": {},
   "source": [
    "Arithmetic functions in numpy"
   ]
  },
  {
   "cell_type": "code",
   "execution_count": 14,
   "id": "83b89cc9-e090-4fcb-8be7-770c7cf95667",
   "metadata": {},
   "outputs": [],
   "source": [
    "# np.min(x)\n",
    "#np.max(x)\n",
    "#np.argmin(x)\n",
    "#np.sqrt(x)\n",
    "#np.sin(x)\n",
    "#np.cos(x)\n",
    "#np.cumsum(x)  # Cummulative Sum"
   ]
  },
  {
   "cell_type": "code",
   "execution_count": 17,
   "id": "7dc74aea-abc4-4e69-aa05-2706f2771189",
   "metadata": {},
   "outputs": [
    {
     "name": "stdout",
     "output_type": "stream",
     "text": [
      "min :  1\n"
     ]
    }
   ],
   "source": [
    "import numpy as np\n",
    "var = np.array ([1,2,3,4,5,3,2])\n",
    "print(\"min : \" ,np.min(var))"
   ]
  },
  {
   "cell_type": "code",
   "execution_count": 18,
   "id": "51a7b989-16f6-4a20-9ba0-e74342524349",
   "metadata": {},
   "outputs": [
    {
     "name": "stdout",
     "output_type": "stream",
     "text": [
      "max :  5\n"
     ]
    }
   ],
   "source": [
    "var = np.array ([1,2,3,4,5,3,2])\n",
    "print(\"max : \" ,np.max(var))"
   ]
  },
  {
   "cell_type": "code",
   "execution_count": 19,
   "id": "3a4fd703-f693-44df-a80e-dce9b39b6c4e",
   "metadata": {},
   "outputs": [
    {
     "name": "stdout",
     "output_type": "stream",
     "text": [
      "Position of max :  4\n"
     ]
    }
   ],
   "source": [
    "var = np.array ([1,2,3,4,5,3,2])\n",
    "print(\"Position of max : \" ,np.argmax(var))"
   ]
  },
  {
   "cell_type": "code",
   "execution_count": 20,
   "id": "5dedf6d4-4b29-4c12-b65e-164d4e225775",
   "metadata": {},
   "outputs": [
    {
     "name": "stdout",
     "output_type": "stream",
     "text": [
      "Position of min :  0\n"
     ]
    }
   ],
   "source": [
    "var1 = np.array([[2,1,3],[9,5,6]])\n",
    "print(np.min(var1,axis = 1))\n",
    "print(\"Position of min : \" ,np.argmin(var))"
   ]
  },
  {
   "cell_type": "code",
   "execution_count": 22,
   "id": "bdf429ab-c50a-47a6-8dce-0fdad3637f6c",
   "metadata": {},
   "outputs": [
    {
     "name": "stdout",
     "output_type": "stream",
     "text": [
      "[1 5]\n"
     ]
    }
   ],
   "source": [
    "var1 = np.array([[2,1,3],[9,5,6]])\n",
    "print(np.min(var1,axis = 1)) # row"
   ]
  },
  {
   "cell_type": "code",
   "execution_count": 23,
   "id": "1dbf424b-fd02-4986-9b81-9ec6f028f405",
   "metadata": {},
   "outputs": [
    {
     "name": "stdout",
     "output_type": "stream",
     "text": [
      "[2 1 3]\n"
     ]
    }
   ],
   "source": [
    "var1 = np.array([[2,1,3],[9,5,6]])\n",
    "print(np.min(var1,axis = 0)) # column"
   ]
  },
  {
   "cell_type": "code",
   "execution_count": 24,
   "id": "28f4d4dd-052f-4d0c-9e2e-c8b97ee668d6",
   "metadata": {},
   "outputs": [
    {
     "name": "stdout",
     "output_type": "stream",
     "text": [
      "sqrt :  [1.         1.41421356 1.73205081 2.         2.23606798 1.73205081\n",
      " 1.41421356]\n"
     ]
    }
   ],
   "source": [
    "var = np.array ([1,2,3,4,5,3,2])\n",
    "print(\"sqrt : \" ,np.sqrt(var))"
   ]
  },
  {
   "cell_type": "code",
   "execution_count": 31,
   "id": "43ec67df-8b7f-4e53-a5d2-0afb3fbaca51",
   "metadata": {},
   "outputs": [
    {
     "name": "stdout",
     "output_type": "stream",
     "text": [
      "[0.84147098 0.90929743 0.14112001]\n",
      "[ 0.54030231 -0.41614684 -0.9899925 ]\n",
      "[ 1  3  6 10 15 21 28]\n"
     ]
    }
   ],
   "source": [
    "var2 = np.array([1,2,3])\n",
    "print(np.sin(var2))\n",
    "print(np.cos(var2))\n",
    "var = np.array([1,2,3,4,5,6,7])\n",
    "print(np.cumsum(var))"
   ]
  },
  {
   "cell_type": "markdown",
   "id": "c9f4e64f-bf0f-43b2-ace1-7a7ef71b0721",
   "metadata": {},
   "source": [
    "Shape and Reshape in Numpy Arrays"
   ]
  },
  {
   "cell_type": "markdown",
   "id": "3f8c2e68-eb5d-4189-a9a5-9eb45889b1ad",
   "metadata": {},
   "source": [
    "Shape"
   ]
  },
  {
   "cell_type": "code",
   "execution_count": 33,
   "id": "6c88d1b7-1595-43a3-b60c-fa2efcc28e42",
   "metadata": {},
   "outputs": [
    {
     "name": "stdout",
     "output_type": "stream",
     "text": [
      "[[1 2]\n",
      " [1 2]]\n",
      "\n",
      "(2, 2)\n"
     ]
    }
   ],
   "source": [
    "import numpy as np\n",
    "var = np.array([[1,2],[1,2]])\n",
    "print(var)\n",
    "print()\n",
    "print(var.shape)"
   ]
  },
  {
   "cell_type": "code",
   "execution_count": 36,
   "id": "91a50b5b-9d7a-49a9-9f0b-10e7704fe858",
   "metadata": {},
   "outputs": [
    {
     "name": "stdout",
     "output_type": "stream",
     "text": [
      "[[[[1 2 3 4]]]]\n",
      "4\n",
      "\n",
      "(1, 1, 1, 4)\n"
     ]
    }
   ],
   "source": [
    "var1 = np.array([1,2,3,4],ndmin =4)\n",
    "print (var1)\n",
    "print(var1.ndim)\n",
    "print()\n",
    "print(var1.shape)"
   ]
  },
  {
   "cell_type": "markdown",
   "id": "3a81da29-331d-43af-b065-7423c95a1514",
   "metadata": {},
   "source": [
    "Reshape"
   ]
  },
  {
   "cell_type": "code",
   "execution_count": 39,
   "id": "b38e2bab-6efc-4dd6-85f1-4cb0209d5833",
   "metadata": {},
   "outputs": [
    {
     "name": "stdout",
     "output_type": "stream",
     "text": [
      "[1 2 3 4 5 6]\n",
      "1\n",
      "\n",
      "[[1 2]\n",
      " [3 4]\n",
      " [5 6]]\n",
      "2\n"
     ]
    }
   ],
   "source": [
    "var2 = np.array([1,2,3,4,5,6])\n",
    "print(var2)\n",
    "print(var2.ndim)\n",
    "print()\n",
    "x= var2.reshape(3,2)\n",
    "print(x)\n",
    "print(x.ndim)"
   ]
  },
  {
   "cell_type": "code",
   "execution_count": 42,
   "id": "e344a180-0985-4586-8d43-57ddd4617f21",
   "metadata": {},
   "outputs": [
    {
     "name": "stdout",
     "output_type": "stream",
     "text": [
      "[ 1  2  3  4  5  6  7  8  9 10 11 12]\n",
      "1\n",
      "\n",
      "[[[ 1  2]\n",
      "  [ 3  4]\n",
      "  [ 5  6]]\n",
      "\n",
      " [[ 7  8]\n",
      "  [ 9 10]\n",
      "  [11 12]]]\n",
      "3\n",
      "\n",
      "[ 1  2  3  4  5  6  7  8  9 10 11 12]\n",
      "1\n"
     ]
    }
   ],
   "source": [
    "var3 = np.array([1,2,3,4,5,6,7,8,9,10,11,12])\n",
    "print(var3)\n",
    "print(var3.ndim)\n",
    "print()\n",
    "x= var3.reshape(2,3,2)\n",
    "print(x)\n",
    "print(x.ndim)\n",
    "print()\n",
    "one = x.reshape(-1)\n",
    "print(one)\n",
    "print(one.ndim)"
   ]
  },
  {
   "cell_type": "markdown",
   "id": "107f51ad-b312-4922-9d0f-ce627d20a10d",
   "metadata": {},
   "source": [
    "Broadcasting array in numpy"
   ]
  },
  {
   "cell_type": "code",
   "execution_count": 44,
   "id": "c786d849-2b2b-4230-ad3e-2d7c8b4014a4",
   "metadata": {},
   "outputs": [
    {
     "name": "stdout",
     "output_type": "stream",
     "text": [
      "[2 4 6 8]\n"
     ]
    }
   ],
   "source": [
    "import numpy as np\n",
    "var1 = np.array([1,2,3,4])\n",
    "var2 = np.array([1,2,3,4])\n",
    "print(var1 + var2)"
   ]
  },
  {
   "cell_type": "code",
   "execution_count": 48,
   "id": "a7ce253e-540d-41c8-b21e-6cfeaf1edbc7",
   "metadata": {},
   "outputs": [
    {
     "name": "stdout",
     "output_type": "stream",
     "text": [
      "(3,)\n",
      "\n",
      "[1 2 3]\n",
      "\n",
      "[[1]\n",
      " [2]\n",
      " [3]]\n",
      "\n",
      "(3, 1)\n",
      "\n",
      "[[2 3 4]\n",
      " [3 4 5]\n",
      " [4 5 6]]\n"
     ]
    }
   ],
   "source": [
    "import numpy as np\n",
    "var1 = np.array([1,2,3])\n",
    "print(var1.shape)\n",
    "print()\n",
    "print(var1)\n",
    "print()\n",
    "var2 = np.array([[1],[2],[3]])\n",
    "print(var2)\n",
    "print()\n",
    "print(var2.shape)\n",
    "print()\n",
    "print(var1+var2)"
   ]
  },
  {
   "cell_type": "code",
   "execution_count": 50,
   "id": "c1db6d7f-d63d-419e-b1cc-96b10e6a100a",
   "metadata": {},
   "outputs": [
    {
     "name": "stdout",
     "output_type": "stream",
     "text": [
      "(2, 1)\n",
      "(2, 3)\n",
      "\n",
      "[[2 3 4]\n",
      " [3 4 5]]\n"
     ]
    }
   ],
   "source": [
    "x =np.array([[1],[2]])\n",
    "print(x.shape)\n",
    "y = np.array([[1,2,3],[1,2,3]])\n",
    "print(y.shape)\n",
    "print()\n",
    "print(x+y)\n"
   ]
  },
  {
   "cell_type": "markdown",
   "id": "d2b559f9-89e9-4864-adb4-161fb33184ee",
   "metadata": {},
   "source": [
    "Creating an Array"
   ]
  },
  {
   "cell_type": "code",
   "execution_count": 2,
   "id": "978204c4-bc74-4179-8cf4-0a1da6d2f4e3",
   "metadata": {},
   "outputs": [
    {
     "name": "stdout",
     "output_type": "stream",
     "text": [
      "[1 2 3 4 5]\n",
      "<class 'numpy.ndarray'>\n"
     ]
    }
   ],
   "source": [
    "import numpy as np\n",
    "x =np.array([1,2,3,4,5])\n",
    "print(x)\n",
    "print(type(x))"
   ]
  },
  {
   "cell_type": "code",
   "execution_count": 4,
   "id": "5f2e8846-643d-4cfb-957d-3deb93443abc",
   "metadata": {},
   "outputs": [],
   "source": [
    "# WE cam also pass list, tuple or any array like an object with array() and it will be converted to ndarray"
   ]
  },
  {
   "cell_type": "code",
   "execution_count": 6,
   "id": "47d14b5e-c982-4fc5-ae83-7c4538a2857c",
   "metadata": {},
   "outputs": [
    {
     "name": "stdout",
     "output_type": "stream",
     "text": [
      "[1 2 3 4 5]\n",
      "<class 'numpy.ndarray'>\n"
     ]
    }
   ],
   "source": [
    "import numpy as np\n",
    "x = np.array((1,2,3,4,5))\n",
    "print(x)\n",
    "print(type(x))"
   ]
  },
  {
   "cell_type": "markdown",
   "id": "d8dd3d77-d622-4732-81a9-50f9be42fbef",
   "metadata": {},
   "source": [
    " Dimensions in arrays"
   ]
  },
  {
   "cell_type": "code",
   "execution_count": 7,
   "id": "6963548a-2e85-43ee-90fc-5fb004873a5e",
   "metadata": {},
   "outputs": [],
   "source": [
    " # 0 array\n"
   ]
  },
  {
   "cell_type": "code",
   "execution_count": 8,
   "id": "12d2408e-9833-43b8-92d0-ef17570000a7",
   "metadata": {},
   "outputs": [
    {
     "name": "stdout",
     "output_type": "stream",
     "text": [
      "42\n"
     ]
    }
   ],
   "source": [
    "import numpy as np\n",
    "x = np.array(42)\n",
    "print(x)"
   ]
  },
  {
   "cell_type": "code",
   "execution_count": 9,
   "id": "5e39985c-5985-4595-a4ac-e33aac280d79",
   "metadata": {},
   "outputs": [],
   "source": [
    "# 1 D array"
   ]
  },
  {
   "cell_type": "code",
   "execution_count": 10,
   "id": "cf139b42-617d-431a-8ec9-f13075471a3b",
   "metadata": {},
   "outputs": [
    {
     "name": "stdout",
     "output_type": "stream",
     "text": [
      "[1 2 3 4 5]\n"
     ]
    }
   ],
   "source": [
    "import numpy as np\n",
    "x = np.array([1,2,3,4,5])\n",
    "print(x)"
   ]
  },
  {
   "cell_type": "code",
   "execution_count": 11,
   "id": "322880ce-2f5b-4a21-9bbd-9084943dca2d",
   "metadata": {},
   "outputs": [],
   "source": [
    "# 2-D array"
   ]
  },
  {
   "cell_type": "code",
   "execution_count": 12,
   "id": "a488ba45-1c90-435d-95bd-5ad38f498ffa",
   "metadata": {},
   "outputs": [
    {
     "name": "stdout",
     "output_type": "stream",
     "text": [
      "[[1 2 3]\n",
      " [4 5 6]]\n"
     ]
    }
   ],
   "source": [
    "import numpy as np\n",
    "x = np.array([[1,2,3],[4,5,6]])\n",
    "print(x)"
   ]
  },
  {
   "cell_type": "code",
   "execution_count": 13,
   "id": "b22d3b67-0959-4e33-8f2b-6eb14db8dbf4",
   "metadata": {},
   "outputs": [],
   "source": [
    "# Now we will create with 2-D array."
   ]
  },
  {
   "cell_type": "code",
   "execution_count": 15,
   "id": "0483b4f3-2802-4cc7-afa4-8a7335fd605d",
   "metadata": {},
   "outputs": [
    {
     "name": "stdout",
     "output_type": "stream",
     "text": [
      "[[[1 2 3]\n",
      "  [4 5 6]\n",
      "  [7 8 9]]]\n"
     ]
    }
   ],
   "source": [
    "import numpy as np\n",
    "x = np.array([[[1,2,3],[4,5,6],[7,8,9]]])\n",
    "print(x)\n"
   ]
  },
  {
   "cell_type": "code",
   "execution_count": 16,
   "id": "84df1c69-086e-4c66-86a8-68ece59557aa",
   "metadata": {},
   "outputs": [],
   "source": [
    "# check how many dimensions the array have : ndim() attribute"
   ]
  },
  {
   "cell_type": "code",
   "execution_count": 19,
   "id": "19ba1556-751c-430e-b2f9-52c1f743feef",
   "metadata": {},
   "outputs": [
    {
     "name": "stdout",
     "output_type": "stream",
     "text": [
      "0\n",
      "1\n",
      "2\n"
     ]
    }
   ],
   "source": [
    "import numpy as np\n",
    "x = np.array(42)\n",
    "y = np.array([1,2,3,4,5])\n",
    "z = np.array([[1,2,3],[4,5,6]])\n",
    "print(x.ndim)\n",
    "print(y.ndim)\n",
    "print(z.ndim)"
   ]
  },
  {
   "cell_type": "markdown",
   "id": "8b329d72-c723-44ec-a322-715f1ad96a2a",
   "metadata": {},
   "source": [
    " Indexing an array element"
   ]
  },
  {
   "cell_type": "code",
   "execution_count": 23,
   "id": "bbc2412a-c753-450b-aecf-6a5f5dc7d993",
   "metadata": {},
   "outputs": [
    {
     "name": "stdout",
     "output_type": "stream",
     "text": [
      "4\n"
     ]
    }
   ],
   "source": [
    "import numpy as np\n",
    "x = np.array([1,2,3,4])\n",
    "print(x[-1])\n"
   ]
  },
  {
   "cell_type": "code",
   "execution_count": 25,
   "id": "e85561e2-f0a7-4869-b3b0-430c6e279cdc",
   "metadata": {},
   "outputs": [
    {
     "name": "stdout",
     "output_type": "stream",
     "text": [
      "Second Element in the 1St rows : 10\n"
     ]
    }
   ],
   "source": [
    "import numpy as np\n",
    "x = np.array([[1,2,3,4,5],[6,7,8,9,10]])\n",
    "print(\"Fifth Element in the second rows :\",x[1,4])"
   ]
  },
  {
   "cell_type": "code",
   "execution_count": 26,
   "id": "42ca4f3c-b412-44b2-b6e9-094bd2e0e5b6",
   "metadata": {},
   "outputs": [],
   "source": [
    "# Accessing the 3-D "
   ]
  },
  {
   "cell_type": "code",
   "execution_count": 27,
   "id": "25530032-2892-4c2b-9d6c-ebc79067eb4f",
   "metadata": {},
   "outputs": [
    {
     "name": "stdout",
     "output_type": "stream",
     "text": [
      "6\n"
     ]
    }
   ],
   "source": [
    "import numpy as np\n",
    "x = np.array([[[1,2,3],[4,5,6]],[[7,8,9],[10,11,12]]])\n",
    "print(x[0,1,2])\n"
   ]
  },
  {
   "cell_type": "markdown",
   "id": "62ae3015-a39a-418f-a751-bec64ee85c62",
   "metadata": {},
   "source": [
    "Numpy Array Slicing"
   ]
  },
  {
   "cell_type": "code",
   "execution_count": 38,
   "id": "ee566a5d-1199-4dbc-a453-37a028a76fcd",
   "metadata": {},
   "outputs": [
    {
     "name": "stdout",
     "output_type": "stream",
     "text": [
      "[2 3 4 5]\n",
      "[5 6 7 8 9]\n",
      "[1 2 3 4 5 6 7 8 9]\n",
      "[1 2 3 4]\n",
      "[1 2 3 4 5 6 7 8]\n",
      "[4 5 6 7 8]\n"
     ]
    }
   ],
   "source": [
    "import numpy as np\n",
    "x = np.array([1,2,3,4,5,6,7,8,9])\n",
    "print(x[1:5])\n",
    "print(x[4:])\n",
    "print(x[:])\n",
    "print(x[:4])\n",
    "print(x[:-1])\n",
    "print (x[-6:-1])"
   ]
  },
  {
   "cell_type": "code",
   "execution_count": 39,
   "id": "8d815efb-562b-4f21-8003-5629ab10dc1d",
   "metadata": {},
   "outputs": [],
   "source": [
    "# step"
   ]
  },
  {
   "cell_type": "code",
   "execution_count": 42,
   "id": "131d8281-5d6e-4ab9-aad2-d3a1f5bf0f1a",
   "metadata": {},
   "outputs": [
    {
     "name": "stdout",
     "output_type": "stream",
     "text": [
      "[1 3 5 7 9]\n"
     ]
    }
   ],
   "source": [
    "import numpy as np\n",
    "x = np.array([1,2,3,4,5,6,7,8,9])\n",
    "print (x[::2])"
   ]
  },
  {
   "cell_type": "markdown",
   "id": "45f145e2-5031-4cbc-ac19-9251ca859c3e",
   "metadata": {},
   "source": [
    "Slicing 2-D Array"
   ]
  },
  {
   "cell_type": "code",
   "execution_count": 47,
   "id": "ee072d2d-0df9-4e4b-b1df-7c4146294f35",
   "metadata": {},
   "outputs": [
    {
     "name": "stdout",
     "output_type": "stream",
     "text": [
      "[7 8 9]\n",
      "[3 8]\n"
     ]
    }
   ],
   "source": [
    "import numpy as np\n",
    "x = np.array([[1,2,3,4,5],[6,7,8,9,10]])\n",
    "print (x[1,1:4])\n",
    "print(x[0:2,2])"
   ]
  },
  {
   "cell_type": "code",
   "execution_count": 48,
   "id": "9d4cbca1-f337-4417-a7dd-adc7a83fea68",
   "metadata": {},
   "outputs": [
    {
     "data": {
      "text/plain": [
       "array([ 1,  2,  3,  4,  5,  6,  7,  8,  9, 10])"
      ]
     },
     "execution_count": 48,
     "metadata": {},
     "output_type": "execute_result"
    }
   ],
   "source": [
    "#np.arange\n",
    "np.arange(1,11)"
   ]
  },
  {
   "cell_type": "code",
   "execution_count": 49,
   "id": "c028e207-7ef2-49a7-aa90-f27e15fd54c7",
   "metadata": {},
   "outputs": [
    {
     "data": {
      "text/plain": [
       "array([[ 1,  2],\n",
       "       [ 3,  4],\n",
       "       [ 5,  6],\n",
       "       [ 7,  8],\n",
       "       [ 9, 10]])"
      ]
     },
     "execution_count": 49,
     "metadata": {},
     "output_type": "execute_result"
    }
   ],
   "source": [
    "# with reshape\n",
    "np.arange(1,11).reshape(5,2)"
   ]
  },
  {
   "cell_type": "code",
   "execution_count": 52,
   "id": "c37287c4-f5a0-4c96-bc80-f15dd9c61d7e",
   "metadata": {},
   "outputs": [
    {
     "name": "stdout",
     "output_type": "stream",
     "text": [
      "\n"
     ]
    },
    {
     "data": {
      "text/plain": [
       "array([[0., 0., 0., 0.],\n",
       "       [0., 0., 0., 0.],\n",
       "       [0., 0., 0., 0.]])"
      ]
     },
     "execution_count": 52,
     "metadata": {},
     "output_type": "execute_result"
    }
   ],
   "source": [
    "#np.ones and np.zeros\n",
    "np.ones((3,4))\n",
    "print()\n",
    "np.zeros((3,4))"
   ]
  },
  {
   "cell_type": "code",
   "execution_count": 53,
   "id": "0b76f5c7-0bb4-4388-aba5-2da251f89415",
   "metadata": {},
   "outputs": [
    {
     "data": {
      "text/plain": [
       "array([[0.61254439, 0.80242287, 0.30852595, 0.67414184],\n",
       "       [0.29146813, 0.50980249, 0.30275079, 0.73994459],\n",
       "       [0.27999127, 0.69706563, 0.19154454, 0.36326382]])"
      ]
     },
     "execution_count": 53,
     "metadata": {},
     "output_type": "execute_result"
    }
   ],
   "source": [
    "#np.random\n",
    "np.random.random((3,4))"
   ]
  },
  {
   "cell_type": "code",
   "execution_count": 54,
   "id": "06fb0296-7101-4148-aed1-911a68d51765",
   "metadata": {},
   "outputs": [
    {
     "data": {
      "text/plain": [
       "array([-10.        ,  -7.77777778,  -5.55555556,  -3.33333333,\n",
       "        -1.11111111,   1.11111111,   3.33333333,   5.55555556,\n",
       "         7.77777778,  10.        ])"
      ]
     },
     "execution_count": 54,
     "metadata": {},
     "output_type": "execute_result"
    }
   ],
   "source": [
    "#np.linspace\n",
    "np.linspace(-10,10,10)"
   ]
  },
  {
   "cell_type": "code",
   "execution_count": 57,
   "id": "8124e6e6-83dc-4d07-bfcd-360223684246",
   "metadata": {},
   "outputs": [
    {
     "data": {
      "text/plain": [
       "array([[1., 0., 0.],\n",
       "       [0., 1., 0.],\n",
       "       [0., 0., 1.]])"
      ]
     },
     "execution_count": 57,
     "metadata": {},
     "output_type": "execute_result"
    }
   ],
   "source": [
    "#np.identity\n",
    "np.identity(3)"
   ]
  },
  {
   "cell_type": "markdown",
   "id": "355a07f1-21d0-4fb1-b155-ae860dd20639",
   "metadata": {},
   "source": [
    "Indexing and slicing "
   ]
  },
  {
   "cell_type": "code",
   "execution_count": 4,
   "id": "85814ddf-eaa4-4215-a187-d748b5c1ba7b",
   "metadata": {},
   "outputs": [
    {
     "name": "stdout",
     "output_type": "stream",
     "text": [
      "[0 1 2 3 4 5 6 7 8 9]\n",
      "\n",
      "[[ 0  1  2  3]\n",
      " [ 4  5  6  7]\n",
      " [ 8  9 10 11]]\n",
      "\n",
      "[[[0 1]\n",
      "  [2 3]]\n",
      "\n",
      " [[4 5]\n",
      "  [6 7]]]\n",
      "\n"
     ]
    }
   ],
   "source": [
    "import numpy as np\n",
    "a1 = np.arange(10)\n",
    "print(a1)\n",
    "print()\n",
    "a2 = np.arange(12).reshape(3,4)\n",
    "print(a2)\n",
    "print()\n",
    "a3 =np.arange(8).reshape(2,2,2)\n",
    "print(a3)\n",
    "print()"
   ]
  },
  {
   "cell_type": "code",
   "execution_count": 5,
   "id": "6b1aed32-2f2b-45a8-8358-3aa0c5e5f4cc",
   "metadata": {},
   "outputs": [
    {
     "data": {
      "text/plain": [
       "6"
      ]
     },
     "execution_count": 5,
     "metadata": {},
     "output_type": "execute_result"
    }
   ],
   "source": [
    "a2[1,2]"
   ]
  },
  {
   "cell_type": "code",
   "execution_count": 6,
   "id": "40203951-8fbc-407c-a9c2-664ed8bd7caf",
   "metadata": {},
   "outputs": [
    {
     "data": {
      "text/plain": [
       "11"
      ]
     },
     "execution_count": 6,
     "metadata": {},
     "output_type": "execute_result"
    }
   ],
   "source": [
    "a2[2,3]"
   ]
  },
  {
   "cell_type": "code",
   "execution_count": 7,
   "id": "a119a9d3-7cad-44e2-ac3f-8751e99e1225",
   "metadata": {},
   "outputs": [
    {
     "data": {
      "text/plain": [
       "4"
      ]
     },
     "execution_count": 7,
     "metadata": {},
     "output_type": "execute_result"
    }
   ],
   "source": [
    "a2[1,0]"
   ]
  },
  {
   "cell_type": "code",
   "execution_count": 8,
   "id": "43740b26-d728-4d7b-a1bf-05e6ffa7f909",
   "metadata": {},
   "outputs": [
    {
     "name": "stdout",
     "output_type": "stream",
     "text": [
      "[[ 0  1  2  3]\n",
      " [ 4  5  6  7]\n",
      " [ 8  9 10 11]]\n"
     ]
    }
   ],
   "source": [
    "print(a2)"
   ]
  },
  {
   "cell_type": "code",
   "execution_count": 9,
   "id": "09f30438-9e42-4895-8fe3-e869ea0f0abe",
   "metadata": {},
   "outputs": [
    {
     "data": {
      "text/plain": [
       "10"
      ]
     },
     "execution_count": 9,
     "metadata": {},
     "output_type": "execute_result"
    }
   ],
   "source": [
    "a2[2,2]"
   ]
  },
  {
   "cell_type": "code",
   "execution_count": 10,
   "id": "54ac5cdf-660b-4a98-b0fb-d089dfc8bcdd",
   "metadata": {},
   "outputs": [
    {
     "name": "stdout",
     "output_type": "stream",
     "text": [
      "[[[0 1]\n",
      "  [2 3]]\n",
      "\n",
      " [[4 5]\n",
      "  [6 7]]]\n"
     ]
    }
   ],
   "source": [
    "print(a3)"
   ]
  },
  {
   "cell_type": "code",
   "execution_count": 11,
   "id": "83b3702d-c6e9-49b6-a605-e734554afef8",
   "metadata": {},
   "outputs": [
    {
     "data": {
      "text/plain": [
       "5"
      ]
     },
     "execution_count": 11,
     "metadata": {},
     "output_type": "execute_result"
    }
   ],
   "source": [
    "a3[1,0,1]"
   ]
  },
  {
   "cell_type": "code",
   "execution_count": 12,
   "id": "a0535f20-8dee-4c82-a5d7-a29c8edd317c",
   "metadata": {},
   "outputs": [
    {
     "data": {
      "text/plain": [
       "6"
      ]
     },
     "execution_count": 12,
     "metadata": {},
     "output_type": "execute_result"
    }
   ],
   "source": [
    "a3[1,1,0]"
   ]
  },
  {
   "cell_type": "code",
   "execution_count": 13,
   "id": "e21dcb7e-2fa0-4902-ba00-da5ce6a5d0f7",
   "metadata": {},
   "outputs": [
    {
     "data": {
      "text/plain": [
       "2"
      ]
     },
     "execution_count": 13,
     "metadata": {},
     "output_type": "execute_result"
    }
   ],
   "source": [
    "a3[0,1,0]"
   ]
  },
  {
   "cell_type": "code",
   "execution_count": 14,
   "id": "561179fb-a57b-40b6-a365-c0ac59d1411d",
   "metadata": {},
   "outputs": [
    {
     "data": {
      "text/plain": [
       "0"
      ]
     },
     "execution_count": 14,
     "metadata": {},
     "output_type": "execute_result"
    }
   ],
   "source": [
    "a3[0,0,0]"
   ]
  },
  {
   "cell_type": "markdown",
   "id": "ba2a3ebf-3bf6-40af-9478-9d7047be4eee",
   "metadata": {},
   "source": [
    "Slicing"
   ]
  },
  {
   "cell_type": "code",
   "execution_count": 15,
   "id": "57f5b6f9-e2ec-458e-af12-6555f3dcfdcc",
   "metadata": {},
   "outputs": [
    {
     "name": "stdout",
     "output_type": "stream",
     "text": [
      "[0 1 2 3 4 5 6 7 8 9]\n"
     ]
    }
   ],
   "source": [
    "print(a1)"
   ]
  },
  {
   "cell_type": "code",
   "execution_count": 16,
   "id": "880cad93-6c49-4a26-8f92-bb42ddad65c0",
   "metadata": {},
   "outputs": [
    {
     "data": {
      "text/plain": [
       "array([2, 3, 4])"
      ]
     },
     "execution_count": 16,
     "metadata": {},
     "output_type": "execute_result"
    }
   ],
   "source": [
    "a1[2:5]"
   ]
  },
  {
   "cell_type": "code",
   "execution_count": 17,
   "id": "d2ec8c33-7995-49e3-a7a8-6e420e82def3",
   "metadata": {},
   "outputs": [
    {
     "data": {
      "text/plain": [
       "array([2, 4])"
      ]
     },
     "execution_count": 17,
     "metadata": {},
     "output_type": "execute_result"
    }
   ],
   "source": [
    "a1[2:5:2]"
   ]
  },
  {
   "cell_type": "code",
   "execution_count": 18,
   "id": "d45e1d5c-e9b6-4ee9-90b4-b94aa564a3bc",
   "metadata": {},
   "outputs": [
    {
     "name": "stdout",
     "output_type": "stream",
     "text": [
      "[[ 0  1  2  3]\n",
      " [ 4  5  6  7]\n",
      " [ 8  9 10 11]]\n"
     ]
    }
   ],
   "source": [
    "print(a2)"
   ]
  },
  {
   "cell_type": "code",
   "execution_count": 19,
   "id": "7367c787-9e4a-4bcd-83b0-7d27c69611fb",
   "metadata": {},
   "outputs": [
    {
     "data": {
      "text/plain": [
       "array([0, 1, 2, 3])"
      ]
     },
     "execution_count": 19,
     "metadata": {},
     "output_type": "execute_result"
    }
   ],
   "source": [
    "a2[0,:]"
   ]
  },
  {
   "cell_type": "code",
   "execution_count": 20,
   "id": "e4eae186-70b9-4dac-8bce-d357b9bb71c0",
   "metadata": {},
   "outputs": [
    {
     "data": {
      "text/plain": [
       "array([ 2,  6, 10])"
      ]
     },
     "execution_count": 20,
     "metadata": {},
     "output_type": "execute_result"
    }
   ],
   "source": [
    "a2[:,2]"
   ]
  },
  {
   "cell_type": "code",
   "execution_count": 21,
   "id": "228c8f0c-daa8-4390-9151-b423d0770f37",
   "metadata": {},
   "outputs": [
    {
     "data": {
      "text/plain": [
       "array([[ 5,  6],\n",
       "       [ 9, 10]])"
      ]
     },
     "execution_count": 21,
     "metadata": {},
     "output_type": "execute_result"
    }
   ],
   "source": [
    "a2[1:,1:3]"
   ]
  },
  {
   "cell_type": "code",
   "execution_count": 22,
   "id": "01d9ce66-3200-4a3f-b837-6dcb375a59e5",
   "metadata": {},
   "outputs": [
    {
     "data": {
      "text/plain": [
       "array([[ 0,  3],\n",
       "       [ 8, 11]])"
      ]
     },
     "execution_count": 22,
     "metadata": {},
     "output_type": "execute_result"
    }
   ],
   "source": [
    "a2[::2,::3]"
   ]
  },
  {
   "cell_type": "code",
   "execution_count": 23,
   "id": "984e3dc6-acb7-43f6-850a-094d41f9b3f0",
   "metadata": {},
   "outputs": [
    {
     "name": "stdout",
     "output_type": "stream",
     "text": [
      "[[ 0  1  2  3]\n",
      " [ 4  5  6  7]\n",
      " [ 8  9 10 11]]\n"
     ]
    }
   ],
   "source": [
    "print(a2)"
   ]
  },
  {
   "cell_type": "code",
   "execution_count": 25,
   "id": "edd4df17-b1d7-43e4-9345-53db170c4455",
   "metadata": {},
   "outputs": [
    {
     "data": {
      "text/plain": [
       "array([[ 1,  3],\n",
       "       [ 9, 11]])"
      ]
     },
     "execution_count": 25,
     "metadata": {},
     "output_type": "execute_result"
    }
   ],
   "source": [
    "a2[::2,1::2]"
   ]
  },
  {
   "cell_type": "code",
   "execution_count": 26,
   "id": "97490045-f924-4a9f-acc1-1cbff23a64d7",
   "metadata": {},
   "outputs": [
    {
     "data": {
      "text/plain": [
       "array([ 7, 11])"
      ]
     },
     "execution_count": 26,
     "metadata": {},
     "output_type": "execute_result"
    }
   ],
   "source": [
    "a2[1:,3]"
   ]
  },
  {
   "cell_type": "code",
   "execution_count": 27,
   "id": "c7d41ed6-4109-42a3-8ab8-a799ef0599d6",
   "metadata": {},
   "outputs": [
    {
     "data": {
      "text/plain": [
       "array([4, 7])"
      ]
     },
     "execution_count": 27,
     "metadata": {},
     "output_type": "execute_result"
    }
   ],
   "source": [
    "a2[1,::3]"
   ]
  },
  {
   "cell_type": "code",
   "execution_count": 28,
   "id": "e6a47901-24d9-4ada-91fd-8f579d2ec226",
   "metadata": {},
   "outputs": [
    {
     "name": "stdout",
     "output_type": "stream",
     "text": [
      "[[ 0  1  2  3]\n",
      " [ 4  5  6  7]\n",
      " [ 8  9 10 11]]\n"
     ]
    }
   ],
   "source": [
    "print(a2)"
   ]
  },
  {
   "cell_type": "code",
   "execution_count": 29,
   "id": "71270e4b-0d51-409e-a5bf-335b6318a650",
   "metadata": {},
   "outputs": [
    {
     "data": {
      "text/plain": [
       "array([[1, 2, 3],\n",
       "       [5, 6, 7]])"
      ]
     },
     "execution_count": 29,
     "metadata": {},
     "output_type": "execute_result"
    }
   ],
   "source": [
    "a2[0:2,1:]"
   ]
  },
  {
   "cell_type": "code",
   "execution_count": 30,
   "id": "a9bdb6f4-3af3-460a-a9f1-2bb0d81a7a28",
   "metadata": {},
   "outputs": [
    {
     "name": "stdout",
     "output_type": "stream",
     "text": [
      "[[[0 1]\n",
      "  [2 3]]\n",
      "\n",
      " [[4 5]\n",
      "  [6 7]]]\n"
     ]
    }
   ],
   "source": [
    "print(a3)"
   ]
  },
  {
   "cell_type": "code",
   "execution_count": 31,
   "id": "c2ffbfdd-f1db-44cd-86a0-c4c94e44b586",
   "metadata": {},
   "outputs": [],
   "source": [
    "a3 = np.arange(27).reshape(3,3,3)"
   ]
  },
  {
   "cell_type": "code",
   "execution_count": 32,
   "id": "36a95ba7-7c9f-4146-8d77-0f34e2430c4d",
   "metadata": {},
   "outputs": [
    {
     "name": "stdout",
     "output_type": "stream",
     "text": [
      "[[[ 0  1  2]\n",
      "  [ 3  4  5]\n",
      "  [ 6  7  8]]\n",
      "\n",
      " [[ 9 10 11]\n",
      "  [12 13 14]\n",
      "  [15 16 17]]\n",
      "\n",
      " [[18 19 20]\n",
      "  [21 22 23]\n",
      "  [24 25 26]]]\n"
     ]
    }
   ],
   "source": [
    "print(a3)"
   ]
  },
  {
   "cell_type": "code",
   "execution_count": 33,
   "id": "09e494d8-8e14-4de9-86e2-e0d1c48215f0",
   "metadata": {},
   "outputs": [
    {
     "data": {
      "text/plain": [
       "array([[ 9, 10, 11],\n",
       "       [12, 13, 14],\n",
       "       [15, 16, 17]])"
      ]
     },
     "execution_count": 33,
     "metadata": {},
     "output_type": "execute_result"
    }
   ],
   "source": [
    "a3[1]"
   ]
  },
  {
   "cell_type": "code",
   "execution_count": 34,
   "id": "0bdac406-3617-4196-b14a-88e795101296",
   "metadata": {},
   "outputs": [
    {
     "data": {
      "text/plain": [
       "array([[[ 0,  1,  2],\n",
       "        [ 3,  4,  5],\n",
       "        [ 6,  7,  8]],\n",
       "\n",
       "       [[18, 19, 20],\n",
       "        [21, 22, 23],\n",
       "        [24, 25, 26]]])"
      ]
     },
     "execution_count": 34,
     "metadata": {},
     "output_type": "execute_result"
    }
   ],
   "source": [
    "a3[::2]"
   ]
  },
  {
   "cell_type": "code",
   "execution_count": 35,
   "id": "db2820bd-d48a-434b-adae-df95ffd2b0bb",
   "metadata": {},
   "outputs": [
    {
     "data": {
      "text/plain": [
       "array([3, 4, 5])"
      ]
     },
     "execution_count": 35,
     "metadata": {},
     "output_type": "execute_result"
    }
   ],
   "source": [
    "a3[0,1,:]"
   ]
  },
  {
   "cell_type": "code",
   "execution_count": 36,
   "id": "23fd9ab9-1f38-46d4-9b9e-f40f6ed13f35",
   "metadata": {},
   "outputs": [
    {
     "data": {
      "text/plain": [
       "array([10, 13, 16])"
      ]
     },
     "execution_count": 36,
     "metadata": {},
     "output_type": "execute_result"
    }
   ],
   "source": [
    "a3[1,:,1]"
   ]
  },
  {
   "cell_type": "code",
   "execution_count": 37,
   "id": "57de55a3-cf98-40c5-a853-f870f4b46c28",
   "metadata": {},
   "outputs": [
    {
     "name": "stdout",
     "output_type": "stream",
     "text": [
      "[[[ 0  1  2]\n",
      "  [ 3  4  5]\n",
      "  [ 6  7  8]]\n",
      "\n",
      " [[ 9 10 11]\n",
      "  [12 13 14]\n",
      "  [15 16 17]]\n",
      "\n",
      " [[18 19 20]\n",
      "  [21 22 23]\n",
      "  [24 25 26]]]\n"
     ]
    }
   ],
   "source": [
    "print(a3)"
   ]
  },
  {
   "cell_type": "code",
   "execution_count": 40,
   "id": "c3257608-b1c2-4bcf-b089-66d1dd99a866",
   "metadata": {},
   "outputs": [
    {
     "data": {
      "text/plain": [
       "array([[22, 23],\n",
       "       [25, 26]])"
      ]
     },
     "execution_count": 40,
     "metadata": {},
     "output_type": "execute_result"
    }
   ],
   "source": [
    "a3[2,1:,1:]"
   ]
  },
  {
   "cell_type": "code",
   "execution_count": 41,
   "id": "85f37786-1fbe-4823-a8be-9c3191003ee8",
   "metadata": {},
   "outputs": [
    {
     "name": "stdout",
     "output_type": "stream",
     "text": [
      "[[[ 0  1  2]\n",
      "  [ 3  4  5]\n",
      "  [ 6  7  8]]\n",
      "\n",
      " [[ 9 10 11]\n",
      "  [12 13 14]\n",
      "  [15 16 17]]\n",
      "\n",
      " [[18 19 20]\n",
      "  [21 22 23]\n",
      "  [24 25 26]]]\n"
     ]
    }
   ],
   "source": [
    "print(a3)"
   ]
  },
  {
   "cell_type": "code",
   "execution_count": 42,
   "id": "b16d2edd-0b96-4674-84d0-3648adec2d31",
   "metadata": {},
   "outputs": [
    {
     "data": {
      "text/plain": [
       "array([[ 0,  2],\n",
       "       [18, 20]])"
      ]
     },
     "execution_count": 42,
     "metadata": {},
     "output_type": "execute_result"
    }
   ],
   "source": [
    "a3[::2,0,::2]"
   ]
  },
  {
   "cell_type": "markdown",
   "id": "eda85877-60d3-495c-8b5f-20acaee04da2",
   "metadata": {},
   "source": [
    "Indexing and Slicing"
   ]
  },
  {
   "cell_type": "code",
   "execution_count": 44,
   "id": "1fcd57e0-243f-4a82-966f-962b2f9b50ae",
   "metadata": {},
   "outputs": [
    {
     "data": {
      "text/plain": [
       "array([9, 8, 7, 6])"
      ]
     },
     "execution_count": 44,
     "metadata": {},
     "output_type": "execute_result"
    }
   ],
   "source": [
    "import numpy as np\n",
    "var = np.array([9,8,7,6])\n",
    "var[:]"
   ]
  },
  {
   "cell_type": "code",
   "execution_count": 45,
   "id": "d8aff41e-43fa-4aaa-836d-7d164d358f87",
   "metadata": {},
   "outputs": [
    {
     "data": {
      "text/plain": [
       "6"
      ]
     },
     "execution_count": 45,
     "metadata": {},
     "output_type": "execute_result"
    }
   ],
   "source": [
    "var[-1]"
   ]
  },
  {
   "cell_type": "code",
   "execution_count": 46,
   "id": "f3988560-b0bc-4322-b9fb-7fe8db929ae7",
   "metadata": {},
   "outputs": [
    {
     "data": {
      "text/plain": [
       "array([8, 7, 6])"
      ]
     },
     "execution_count": 46,
     "metadata": {},
     "output_type": "execute_result"
    }
   ],
   "source": [
    "var[1:]"
   ]
  },
  {
   "cell_type": "code",
   "execution_count": 47,
   "id": "36be0c1f-6d3e-4e59-b847-83a5d4f0082e",
   "metadata": {},
   "outputs": [
    {
     "data": {
      "text/plain": [
       "array([9, 7])"
      ]
     },
     "execution_count": 47,
     "metadata": {},
     "output_type": "execute_result"
    }
   ],
   "source": [
    "var[::2]"
   ]
  },
  {
   "cell_type": "code",
   "execution_count": 48,
   "id": "cc2a51b2-c922-4391-8585-50e8fd6bc4e2",
   "metadata": {},
   "outputs": [
    {
     "data": {
      "text/plain": [
       "array([9, 6])"
      ]
     },
     "execution_count": 48,
     "metadata": {},
     "output_type": "execute_result"
    }
   ],
   "source": [
    "var[::3]"
   ]
  },
  {
   "cell_type": "markdown",
   "id": "e8d794cb-554f-4621-a5f1-8c8b478fa0ba",
   "metadata": {},
   "source": [
    "2-D Array"
   ]
  },
  {
   "cell_type": "code",
   "execution_count": 50,
   "id": "a214e36e-d8a7-4558-bd95-1bbede527b11",
   "metadata": {},
   "outputs": [
    {
     "name": "stdout",
     "output_type": "stream",
     "text": [
      "[[9 8 7]\n",
      " [4 5 6]]\n",
      "2\n"
     ]
    }
   ],
   "source": [
    "var1 = np.array([[9,8,7],[4,5,6]])\n",
    "print(var1)\n",
    "print(var1.ndim)"
   ]
  },
  {
   "cell_type": "code",
   "execution_count": 53,
   "id": "a3519c05-d169-4e4e-b97d-4f54aea47496",
   "metadata": {},
   "outputs": [
    {
     "data": {
      "text/plain": [
       "8"
      ]
     },
     "execution_count": 53,
     "metadata": {},
     "output_type": "execute_result"
    }
   ],
   "source": [
    "var1[0,1]"
   ]
  },
  {
   "cell_type": "code",
   "execution_count": 54,
   "id": "0607065f-1f11-4ce3-9827-c44c9e7d100f",
   "metadata": {},
   "outputs": [
    {
     "data": {
      "text/plain": [
       "4"
      ]
     },
     "execution_count": 54,
     "metadata": {},
     "output_type": "execute_result"
    }
   ],
   "source": [
    "var1[1,0]"
   ]
  },
  {
   "cell_type": "code",
   "execution_count": 56,
   "id": "a8c8166f-b1a1-44b2-86ae-5a416297dd1f",
   "metadata": {},
   "outputs": [
    {
     "data": {
      "text/plain": [
       "6"
      ]
     },
     "execution_count": 56,
     "metadata": {},
     "output_type": "execute_result"
    }
   ],
   "source": [
    "var1[1,2]"
   ]
  },
  {
   "cell_type": "code",
   "execution_count": 58,
   "id": "d413f211-7c29-4055-8e22-d9d11ce2e0ea",
   "metadata": {},
   "outputs": [
    {
     "data": {
      "text/plain": [
       "6"
      ]
     },
     "execution_count": 58,
     "metadata": {},
     "output_type": "execute_result"
    }
   ],
   "source": [
    "var1[1,2]"
   ]
  },
  {
   "cell_type": "code",
   "execution_count": 59,
   "id": "7d468bb4-0bf3-47de-8da4-d75375f4c404",
   "metadata": {},
   "outputs": [
    {
     "name": "stdout",
     "output_type": "stream",
     "text": [
      "[[9 8 7]\n",
      " [4 5 6]]\n"
     ]
    }
   ],
   "source": [
    "print(var1)"
   ]
  },
  {
   "cell_type": "code",
   "execution_count": 60,
   "id": "f07c155f-e1e1-49a2-a0f7-1056b0bfd842",
   "metadata": {},
   "outputs": [
    {
     "data": {
      "text/plain": [
       "5"
      ]
     },
     "execution_count": 60,
     "metadata": {},
     "output_type": "execute_result"
    }
   ],
   "source": [
    "var1[1,1]"
   ]
  },
  {
   "cell_type": "code",
   "execution_count": 64,
   "id": "ab13e24c-c0ca-492b-b29a-344793d2fbfd",
   "metadata": {},
   "outputs": [
    {
     "name": "stdout",
     "output_type": "stream",
     "text": [
      "[[[1 2]\n",
      "  [6 7]]]\n",
      "3\n",
      "\n"
     ]
    }
   ],
   "source": [
    "var2 = np.array([[[1,2],[6,7]]])\n",
    "print(var2)\n",
    "print(var2.ndim)\n",
    "print()\n",
    "\n",
    "                "
   ]
  },
  {
   "cell_type": "code",
   "execution_count": 67,
   "id": "4453093a-1260-4829-875d-793daeb797e5",
   "metadata": {},
   "outputs": [
    {
     "data": {
      "text/plain": [
       "7"
      ]
     },
     "execution_count": 67,
     "metadata": {},
     "output_type": "execute_result"
    }
   ],
   "source": [
    "var2[0,1,1]"
   ]
  },
  {
   "cell_type": "code",
   "execution_count": 68,
   "id": "b8c7a895-12af-45aa-a20b-7518841f4bd9",
   "metadata": {},
   "outputs": [
    {
     "data": {
      "text/plain": [
       "2"
      ]
     },
     "execution_count": 68,
     "metadata": {},
     "output_type": "execute_result"
    }
   ],
   "source": [
    "var2[0,0,1]"
   ]
  },
  {
   "cell_type": "code",
   "execution_count": 69,
   "id": "f42b7769-e54f-4d9e-adfd-d0ec8b2ee954",
   "metadata": {},
   "outputs": [
    {
     "data": {
      "text/plain": [
       "1"
      ]
     },
     "execution_count": 69,
     "metadata": {},
     "output_type": "execute_result"
    }
   ],
   "source": [
    "var2[0,0,0]"
   ]
  },
  {
   "cell_type": "markdown",
   "id": "18aca159-b764-4808-b117-3edfb80a0241",
   "metadata": {},
   "source": [
    "Slicing"
   ]
  },
  {
   "cell_type": "code",
   "execution_count": 70,
   "id": "bc2c9ce6-34c4-48fa-852a-8cd106b3a68e",
   "metadata": {},
   "outputs": [
    {
     "name": "stdout",
     "output_type": "stream",
     "text": [
      "[1 2 3 4 5 6 7]\n"
     ]
    }
   ],
   "source": [
    "import numpy as np\n",
    "var =np.array([1,2,3,4,5,6,7])\n",
    "print(var)"
   ]
  },
  {
   "cell_type": "code",
   "execution_count": 71,
   "id": "181e6da8-1792-4d53-910b-c50dbd6e34f7",
   "metadata": {},
   "outputs": [
    {
     "data": {
      "text/plain": [
       "array([2, 3, 4])"
      ]
     },
     "execution_count": 71,
     "metadata": {},
     "output_type": "execute_result"
    }
   ],
   "source": [
    "var[1:4]"
   ]
  },
  {
   "cell_type": "code",
   "execution_count": 73,
   "id": "d6c3dba9-dc5e-4337-ab08-0cbd260f476d",
   "metadata": {},
   "outputs": [
    {
     "data": {
      "text/plain": [
       "array([5, 6, 7])"
      ]
     },
     "execution_count": 73,
     "metadata": {},
     "output_type": "execute_result"
    }
   ],
   "source": [
    "var[4:]"
   ]
  },
  {
   "cell_type": "code",
   "execution_count": 74,
   "id": "4bc058e8-75b2-4853-b3e0-48d057b906e2",
   "metadata": {},
   "outputs": [
    {
     "data": {
      "text/plain": [
       "array([1, 3, 5, 7])"
      ]
     },
     "execution_count": 74,
     "metadata": {},
     "output_type": "execute_result"
    }
   ],
   "source": [
    "var[0::2]"
   ]
  },
  {
   "cell_type": "code",
   "execution_count": 75,
   "id": "7b3a2926-e8e1-4b66-9bca-2f9bc5362423",
   "metadata": {},
   "outputs": [
    {
     "name": "stdout",
     "output_type": "stream",
     "text": [
      "[1 2 3 4 5 6 7]\n"
     ]
    }
   ],
   "source": [
    "print(var)"
   ]
  },
  {
   "cell_type": "code",
   "execution_count": 76,
   "id": "9f821a2f-4bf9-436d-9cfc-3feb4b14214c",
   "metadata": {},
   "outputs": [
    {
     "data": {
      "text/plain": [
       "array([4, 5, 6])"
      ]
     },
     "execution_count": 76,
     "metadata": {},
     "output_type": "execute_result"
    }
   ],
   "source": [
    "var[3:6]"
   ]
  },
  {
   "cell_type": "markdown",
   "id": "15875416-c19f-4025-941e-a5b2a04bc628",
   "metadata": {},
   "source": [
    "2-D array"
   ]
  },
  {
   "cell_type": "code",
   "execution_count": 77,
   "id": "127f7580-dea1-4cd4-a630-6f63bfb242d9",
   "metadata": {},
   "outputs": [
    {
     "name": "stdout",
     "output_type": "stream",
     "text": [
      "[[ 1  2  3  4  5]\n",
      " [ 9  8  7  6  5]\n",
      " [11 12 13 14 15]]\n"
     ]
    }
   ],
   "source": [
    "var1 = np.array([[1,2,3,4,5],[9,8,7,6,5],[11,12,13,14,15]])\n",
    "print(var1)\n",
    "\n"
   ]
  },
  {
   "cell_type": "code",
   "execution_count": 78,
   "id": "aaf0c10d-1a10-4640-a006-22e18521eb20",
   "metadata": {},
   "outputs": [
    {
     "data": {
      "text/plain": [
       "array([8, 7, 6, 5])"
      ]
     },
     "execution_count": 78,
     "metadata": {},
     "output_type": "execute_result"
    }
   ],
   "source": [
    "var1[1,1:]"
   ]
  },
  {
   "cell_type": "code",
   "execution_count": 4,
   "id": "8213f2c4-fc4a-47e8-b74a-1aae9b5dd185",
   "metadata": {},
   "outputs": [
    {
     "name": "stdout",
     "output_type": "stream",
     "text": [
      "[0 1 2 3 4 5 6 7 8 9]\n",
      "0\n",
      "1\n",
      "2\n",
      "3\n",
      "4\n",
      "5\n",
      "6\n",
      "7\n",
      "8\n",
      "9\n"
     ]
    }
   ],
   "source": [
    "import numpy as np\n",
    "a1=  np.arange(10)\n",
    "print(a1)\n",
    "for i in a1:\n",
    "    print(i)"
   ]
  },
  {
   "cell_type": "code",
   "execution_count": 5,
   "id": "a79d5c4e-3b23-4dfa-8f6b-1b62dee25a0e",
   "metadata": {},
   "outputs": [
    {
     "name": "stdout",
     "output_type": "stream",
     "text": [
      "[[ 0  1  2  3]\n",
      " [ 4  5  6  7]\n",
      " [ 8  9 10 11]]\n"
     ]
    }
   ],
   "source": [
    "a2 = np.arange(12).reshape(3,4)\n",
    "print(a2)"
   ]
  },
  {
   "cell_type": "code",
   "execution_count": 6,
   "id": "143c121b-7ebf-4ab5-bd0e-743ba97d927d",
   "metadata": {},
   "outputs": [
    {
     "name": "stdout",
     "output_type": "stream",
     "text": [
      "[[[0 1]\n",
      "  [2 3]]\n",
      "\n",
      " [[4 5]\n",
      "  [6 7]]]\n"
     ]
    }
   ],
   "source": [
    "a3 =np.arange(8).reshape(2,2,2)\n",
    "print(a3)"
   ]
  },
  {
   "cell_type": "code",
   "execution_count": 7,
   "id": "32ae8f33-2ee2-4e79-bb13-75ec31600768",
   "metadata": {},
   "outputs": [
    {
     "name": "stdout",
     "output_type": "stream",
     "text": [
      "[0 1 2 3]\n",
      "[4 5 6 7]\n",
      "[ 8  9 10 11]\n"
     ]
    }
   ],
   "source": [
    "for i in a2:\n",
    "    print(i)"
   ]
  },
  {
   "cell_type": "code",
   "execution_count": 9,
   "id": "5731eac6-53cd-4c5a-9c1a-50e5d9df914f",
   "metadata": {},
   "outputs": [
    {
     "name": "stdout",
     "output_type": "stream",
     "text": [
      "[[0 1]\n",
      " [2 3]]\n",
      "[[4 5]\n",
      " [6 7]]\n"
     ]
    }
   ],
   "source": [
    "for i in a3:\n",
    "    print(i)"
   ]
  },
  {
   "cell_type": "code",
   "execution_count": 10,
   "id": "b8f8500d-8ea9-4ffd-8f89-a45b23528352",
   "metadata": {},
   "outputs": [
    {
     "name": "stdout",
     "output_type": "stream",
     "text": [
      "0\n",
      "1\n",
      "2\n",
      "3\n",
      "4\n",
      "5\n",
      "6\n",
      "7\n"
     ]
    }
   ],
   "source": [
    "for i in np.nditer(a3):\n",
    "    print(i)\n"
   ]
  },
  {
   "cell_type": "markdown",
   "id": "d554de81-c299-4d29-b98d-be1ae306d8ae",
   "metadata": {},
   "source": [
    "Transpose"
   ]
  },
  {
   "cell_type": "code",
   "execution_count": 1,
   "id": "a29574dc-f489-41d9-98a6-fb8bc6179fcd",
   "metadata": {},
   "outputs": [
    {
     "ename": "NameError",
     "evalue": "name 'np' is not defined",
     "output_type": "error",
     "traceback": [
      "\u001b[1;31m---------------------------------------------------------------------------\u001b[0m",
      "\u001b[1;31mNameError\u001b[0m                                 Traceback (most recent call last)",
      "Cell \u001b[1;32mIn[1], line 1\u001b[0m\n\u001b[1;32m----> 1\u001b[0m np\u001b[38;5;241m.\u001b[39mtranspose(a2)\n",
      "\u001b[1;31mNameError\u001b[0m: name 'np' is not defined"
     ]
    }
   ],
   "source": []
  },
  {
   "cell_type": "code",
   "execution_count": 2,
   "id": "44dcabbb-fc6f-4284-8983-122364fcdfd9",
   "metadata": {},
   "outputs": [],
   "source": [
    "import numpy as np\n",
    "a1=  np.arange(10)"
   ]
  },
  {
   "cell_type": "code",
   "execution_count": 3,
   "id": "13299567-5078-4bcc-8e80-8d449a1b1e76",
   "metadata": {},
   "outputs": [
    {
     "data": {
      "text/plain": [
       "array([0, 1, 2, 3, 4, 5, 6, 7, 8, 9])"
      ]
     },
     "execution_count": 3,
     "metadata": {},
     "output_type": "execute_result"
    }
   ],
   "source": [
    "a1"
   ]
  },
  {
   "cell_type": "code",
   "execution_count": 5,
   "id": "fd8506c9-4bef-4194-b3a3-17082519e5ff",
   "metadata": {},
   "outputs": [
    {
     "data": {
      "text/plain": [
       "array([0, 1, 2, 3, 4, 5, 6, 7, 8, 9])"
      ]
     },
     "execution_count": 5,
     "metadata": {},
     "output_type": "execute_result"
    }
   ],
   "source": [
    "np.transpose(a1)"
   ]
  },
  {
   "cell_type": "code",
   "execution_count": 6,
   "id": "fba7842a-77e9-4454-9714-d0fd15b69898",
   "metadata": {},
   "outputs": [
    {
     "name": "stdout",
     "output_type": "stream",
     "text": [
      "[[ 0  1  2  3]\n",
      " [ 4  5  6  7]\n",
      " [ 8  9 10 11]]\n"
     ]
    }
   ],
   "source": [
    "a2 = np.arange(12).reshape(3,4)\n",
    "print(a2)"
   ]
  },
  {
   "cell_type": "code",
   "execution_count": 7,
   "id": "04f2451f-aff3-4566-9d41-cd86de845f6f",
   "metadata": {},
   "outputs": [
    {
     "data": {
      "text/plain": [
       "array([[ 0,  4,  8],\n",
       "       [ 1,  5,  9],\n",
       "       [ 2,  6, 10],\n",
       "       [ 3,  7, 11]])"
      ]
     },
     "execution_count": 7,
     "metadata": {},
     "output_type": "execute_result"
    }
   ],
   "source": [
    "np.transpose(a2)"
   ]
  },
  {
   "cell_type": "code",
   "execution_count": 8,
   "id": "69730f06-fd44-4612-96d3-95cd1128b2a9",
   "metadata": {},
   "outputs": [
    {
     "data": {
      "text/plain": [
       "array([[ 0,  4,  8],\n",
       "       [ 1,  5,  9],\n",
       "       [ 2,  6, 10],\n",
       "       [ 3,  7, 11]])"
      ]
     },
     "execution_count": 8,
     "metadata": {},
     "output_type": "execute_result"
    }
   ],
   "source": [
    "a2.T"
   ]
  },
  {
   "cell_type": "markdown",
   "id": "87df741d-7ee7-4ba3-ba4e-cc2bf2277668",
   "metadata": {},
   "source": [
    "Ravel"
   ]
  },
  {
   "cell_type": "code",
   "execution_count": 10,
   "id": "ad8f4dbe-0384-4a25-8186-5f04ef7ecdc2",
   "metadata": {},
   "outputs": [
    {
     "data": {
      "text/plain": [
       "array([ 0,  1,  2,  3,  4,  5,  6,  7,  8,  9, 10, 11])"
      ]
     },
     "execution_count": 10,
     "metadata": {},
     "output_type": "execute_result"
    }
   ],
   "source": [
    "a2.ravel()"
   ]
  },
  {
   "cell_type": "code",
   "execution_count": 12,
   "id": "446b0595-964f-4353-a301-c7e625d53b45",
   "metadata": {},
   "outputs": [
    {
     "name": "stdout",
     "output_type": "stream",
     "text": [
      "[[[0 1]\n",
      "  [2 3]]\n",
      "\n",
      " [[4 5]\n",
      "  [6 7]]]\n"
     ]
    }
   ],
   "source": [
    "a3 =np.arange(8).reshape(2,2,2)\n",
    "print(a3)"
   ]
  },
  {
   "cell_type": "code",
   "execution_count": 13,
   "id": "379b40eb-697f-4811-92b4-2a8a0ecdb10e",
   "metadata": {},
   "outputs": [
    {
     "data": {
      "text/plain": [
       "array([0, 1, 2, 3, 4, 5, 6, 7])"
      ]
     },
     "execution_count": 13,
     "metadata": {},
     "output_type": "execute_result"
    }
   ],
   "source": [
    "a3.ravel()"
   ]
  },
  {
   "cell_type": "markdown",
   "id": "5d1ad153-0421-45cc-a9ec-bbec8879e4b1",
   "metadata": {},
   "source": [
    "Stacking"
   ]
  },
  {
   "cell_type": "code",
   "execution_count": 14,
   "id": "b9f4156c-8505-4d34-9831-22044ae2d800",
   "metadata": {},
   "outputs": [],
   "source": [
    "# Horizontal Stacking"
   ]
  },
  {
   "cell_type": "code",
   "execution_count": 16,
   "id": "e70cd40b-bdbd-4ca9-bcf6-6bda2579f2d6",
   "metadata": {},
   "outputs": [
    {
     "data": {
      "text/plain": [
       "array([[12, 13, 14, 15],\n",
       "       [16, 17, 18, 19],\n",
       "       [20, 21, 22, 23]])"
      ]
     },
     "execution_count": 16,
     "metadata": {},
     "output_type": "execute_result"
    }
   ],
   "source": [
    "a4 = np.arange(12).reshape(3,4)\n",
    "a5 = np.arange(12,24).reshape(3,4)\n",
    "a5"
   ]
  },
  {
   "cell_type": "code",
   "execution_count": 18,
   "id": "8f403280-2a83-4fc4-8d6f-7f9637e4d99d",
   "metadata": {},
   "outputs": [
    {
     "data": {
      "text/plain": [
       "array([[ 0,  1,  2,  3, 12, 13, 14, 15,  0,  1,  2,  3],\n",
       "       [ 4,  5,  6,  7, 16, 17, 18, 19,  4,  5,  6,  7],\n",
       "       [ 8,  9, 10, 11, 20, 21, 22, 23,  8,  9, 10, 11]])"
      ]
     },
     "execution_count": 18,
     "metadata": {},
     "output_type": "execute_result"
    }
   ],
   "source": [
    "np.hstack((a4,a5,a4))"
   ]
  },
  {
   "cell_type": "code",
   "execution_count": 19,
   "id": "7503633f-7458-4d18-92f9-f2cfc918b6b7",
   "metadata": {},
   "outputs": [],
   "source": [
    "#vertical stacking"
   ]
  },
  {
   "cell_type": "code",
   "execution_count": 20,
   "id": "39d6db58-5dde-4e2d-b14b-9814f1780fea",
   "metadata": {},
   "outputs": [
    {
     "data": {
      "text/plain": [
       "array([[ 0,  1,  2,  3],\n",
       "       [ 4,  5,  6,  7],\n",
       "       [ 8,  9, 10, 11],\n",
       "       [12, 13, 14, 15],\n",
       "       [16, 17, 18, 19],\n",
       "       [20, 21, 22, 23]])"
      ]
     },
     "execution_count": 20,
     "metadata": {},
     "output_type": "execute_result"
    }
   ],
   "source": [
    "np.vstack((a4,a5))"
   ]
  },
  {
   "cell_type": "markdown",
   "id": "c8824933-b16a-499e-9dc7-bf2fb20c75c8",
   "metadata": {},
   "source": [
    "Iterating Numpy Arrays"
   ]
  },
  {
   "cell_type": "code",
   "execution_count": 21,
   "id": "8dfcba0e-73a4-44ba-a9d2-c3dfb0e565d8",
   "metadata": {},
   "outputs": [
    {
     "name": "stdout",
     "output_type": "stream",
     "text": [
      "[9 8 7 6 5 4]\n",
      "9\n",
      "8\n",
      "7\n",
      "6\n",
      "5\n",
      "4\n"
     ]
    }
   ],
   "source": [
    "import numpy as np\n",
    "var = np.array([9,8,7,6,5,4])\n",
    "print(var)\n",
    "for i in var:\n",
    "    print(i)\n",
    "    "
   ]
  },
  {
   "cell_type": "code",
   "execution_count": 25,
   "id": "ad79f3b2-c26a-41e9-bd1a-5b9950e373d0",
   "metadata": {},
   "outputs": [
    {
     "name": "stdout",
     "output_type": "stream",
     "text": [
      "[[1 2 3 4]\n",
      " [1 2 3 4]]\n",
      "[1 2 3 4]\n",
      "[1 2 3 4]\n",
      "\n",
      "[1 2 3 4]\n",
      "[1 2 3 4]\n",
      "[1 2 3 4]\n",
      "[1 2 3 4]\n",
      "[1 2 3 4]\n",
      "[1 2 3 4]\n",
      "[1 2 3 4]\n",
      "[1 2 3 4]\n"
     ]
    }
   ],
   "source": [
    "var1 =np.array([[1,2,3,4],[1,2,3,4]])\n",
    "print(var1)\n",
    "for i in var1:\n",
    "    print(i)\n",
    "print()\n",
    "for j in var1:\n",
    "    for  in j:\n",
    "        print(j)"
   ]
  },
  {
   "cell_type": "code",
   "execution_count": 28,
   "id": "8ee399d3-d86b-41b7-a332-39634e0caaa3",
   "metadata": {},
   "outputs": [
    {
     "name": "stdout",
     "output_type": "stream",
     "text": [
      "[[[1 2 3 4]\n",
      "  [1 2 3 4]]]\n",
      "3\n",
      "\n",
      "1\n",
      "2\n",
      "3\n",
      "4\n",
      "1\n",
      "2\n",
      "3\n",
      "4\n"
     ]
    }
   ],
   "source": [
    "var3= np.array([[[1,2,3,4],[1,2,3,4]]])\n",
    "print(var3)\n",
    "print(var3.ndim)\n",
    "print()\n",
    "for i in var3:\n",
    "    for j in i:\n",
    "        for k in j:\n",
    "            print(k)\n",
    "            "
   ]
  },
  {
   "cell_type": "markdown",
   "id": "884312e3-56da-4826-b038-b7eac99bdfbd",
   "metadata": {},
   "source": [
    "nditer()"
   ]
  },
  {
   "cell_type": "code",
   "execution_count": 30,
   "id": "1375116e-c0c5-42b5-b13c-cadfd2f477cc",
   "metadata": {},
   "outputs": [
    {
     "name": "stdout",
     "output_type": "stream",
     "text": [
      "[[[1 2 3 4]\n",
      "  [1 2 3 4]]]\n",
      "3\n",
      "\n",
      "b'1'\n",
      "b'2'\n",
      "b'3'\n",
      "b'4'\n",
      "b'1'\n",
      "b'2'\n",
      "b'3'\n",
      "b'4'\n"
     ]
    }
   ],
   "source": [
    "var3= np.array([[[1,2,3,4],[1,2,3,4]]])\n",
    "print(var3)\n",
    "print(var3.ndim)\n",
    "print()\n",
    "for i in np.nditer(var3,flags = ['buffered'],op_dtypes= ['S']):\n",
    "    print(i)\n",
    "   "
   ]
  },
  {
   "cell_type": "code",
   "execution_count": 33,
   "id": "650f41a2-b047-4cad-a3b3-2c49e8178438",
   "metadata": {},
   "outputs": [
    {
     "name": "stdout",
     "output_type": "stream",
     "text": [
      "[[[1 2 3 4]\n",
      "  [1 2 3 4]]]\n",
      "3\n",
      "\n",
      "(0, 0, 0) 1\n",
      "(0, 0, 1) 2\n",
      "(0, 0, 2) 3\n",
      "(0, 0, 3) 4\n",
      "(0, 1, 0) 1\n",
      "(0, 1, 1) 2\n",
      "(0, 1, 2) 3\n",
      "(0, 1, 3) 4\n"
     ]
    }
   ],
   "source": [
    "#ndenumerate () Prints the index value\n",
    "var3= np.array([[[1,2,3,4],[1,2,3,4]]])\n",
    "print(var3)\n",
    "print(var3.ndim)\n",
    "print()\n",
    "for i,d in np.ndenumerate(var3):\n",
    "    print(i,d)\n",
    "   "
   ]
  },
  {
   "cell_type": "code",
   "execution_count": 35,
   "id": "6dad46d1-0357-41a8-8f8d-eaf5be61cdfb",
   "metadata": {},
   "outputs": [
    {
     "name": "stdout",
     "output_type": "stream",
     "text": [
      "1\n",
      "2\n",
      "3\n"
     ]
    }
   ],
   "source": [
    "import numpy as np\n",
    "x = np.array([1,2,3])\n",
    "for i in x:\n",
    "    print(i)"
   ]
  },
  {
   "cell_type": "code",
   "execution_count": 36,
   "id": "d1ef7c8f-dc07-4f3a-b51a-0a9f3720ec03",
   "metadata": {},
   "outputs": [],
   "source": [
    "#2-D"
   ]
  },
  {
   "cell_type": "code",
   "execution_count": 42,
   "id": "a2e84d7e-f4fd-40f9-ad27-f15596ff47fc",
   "metadata": {},
   "outputs": [
    {
     "name": "stdout",
     "output_type": "stream",
     "text": [
      "1\n",
      "2\n",
      "3\n",
      "4\n",
      "5\n",
      "6\n"
     ]
    }
   ],
   "source": [
    "import numpy as np\n",
    "y = np.array([[1,2,3],[4,5,6]])\n",
    "for i in y:\n",
    "    for a in i:\n",
    "        print(a)\n",
    "    "
   ]
  },
  {
   "cell_type": "code",
   "execution_count": 39,
   "id": "ef9bfe90-1fc8-44cb-8251-0aa955c8795f",
   "metadata": {},
   "outputs": [],
   "source": [
    "#3-D"
   ]
  },
  {
   "cell_type": "code",
   "execution_count": 41,
   "id": "73e92290-9185-4a38-9853-e0ac6b8f79b5",
   "metadata": {},
   "outputs": [
    {
     "name": "stdout",
     "output_type": "stream",
     "text": [
      "1\n",
      "2\n",
      "3\n",
      "4\n",
      "5\n",
      "6\n",
      "10\n",
      "11\n",
      "12\n"
     ]
    }
   ],
   "source": [
    "import numpy as np\n",
    "z = np.array([[[1,2,3],[4,5,6],[10,11,12]]])\n",
    "for i in z:\n",
    "    for a in i:\n",
    "        for b in a:\n",
    "            print(b)\n",
    "    "
   ]
  },
  {
   "cell_type": "code",
   "execution_count": 43,
   "id": "162fe90a-9679-47e6-96f5-58ecaf562728",
   "metadata": {},
   "outputs": [],
   "source": [
    "#nditer()"
   ]
  },
  {
   "cell_type": "code",
   "execution_count": 44,
   "id": "c21ee523-b412-4370-96a7-9a5fb026ecc6",
   "metadata": {},
   "outputs": [
    {
     "name": "stdout",
     "output_type": "stream",
     "text": [
      "1\n",
      "2\n",
      "3\n",
      "4\n",
      "5\n",
      "6\n",
      "7\n",
      "8\n"
     ]
    }
   ],
   "source": [
    "import numpy as np\n",
    "x = np.array([[[1,2],[3,4],[5,6],[7,8]]])\n",
    "for i in np.nditer(x):\n",
    "    print(i)"
   ]
  },
  {
   "cell_type": "markdown",
   "id": "c9267adb-c3d1-4ad0-a3d9-f4d275e6750b",
   "metadata": {},
   "source": [
    "Stacking"
   ]
  },
  {
   "cell_type": "code",
   "execution_count": 48,
   "id": "90e6ba6f-5c39-45cb-8330-a4c159474f95",
   "metadata": {},
   "outputs": [
    {
     "name": "stdout",
     "output_type": "stream",
     "text": [
      "[1 2 3 4]\n",
      "\n",
      "[5 6 7 8]\n"
     ]
    }
   ],
   "source": [
    "import numpy as np\n",
    "arr1 = np.array([1,2,3,4])\n",
    "arr2 = np.array([5,6,7,8])\n",
    "print(arr1)\n",
    "print()\n",
    "print(arr2)"
   ]
  },
  {
   "cell_type": "code",
   "execution_count": 49,
   "id": "9dabd13d-41cd-411e-ba02-9a667d798d00",
   "metadata": {},
   "outputs": [
    {
     "data": {
      "text/plain": [
       "array([1, 2, 3, 4, 5, 6, 7, 8])"
      ]
     },
     "execution_count": 49,
     "metadata": {},
     "output_type": "execute_result"
    }
   ],
   "source": [
    "np.hstack((arr1,arr2)) # Horizontally Arranges the matrix"
   ]
  },
  {
   "cell_type": "code",
   "execution_count": 51,
   "id": "330ff872-88fc-49e2-a1ec-f2643ac2ac77",
   "metadata": {},
   "outputs": [
    {
     "data": {
      "text/plain": [
       "array([[1, 2, 3, 4],\n",
       "       [5, 6, 7, 8]])"
      ]
     },
     "execution_count": 51,
     "metadata": {},
     "output_type": "execute_result"
    }
   ],
   "source": [
    "np.vstack((arr1,arr2)) # Vertically Arranges the matrix"
   ]
  },
  {
   "cell_type": "markdown",
   "id": "ba2e3149-e343-49a0-a6d4-581f982ac7a9",
   "metadata": {},
   "source": [
    "Numpy Array vs Python List"
   ]
  },
  {
   "cell_type": "markdown",
   "id": "4415fbef-6959-430a-baab-46fd686120b7",
   "metadata": {},
   "source": [
    "Advanced Indexing"
   ]
  },
  {
   "cell_type": "code",
   "execution_count": 2,
   "id": "222624ea-a250-4d3f-931c-0623212815c7",
   "metadata": {},
   "outputs": [
    {
     "data": {
      "text/plain": [
       "array([[ 0,  1,  2],\n",
       "       [ 3,  4,  5],\n",
       "       [ 6,  7,  8],\n",
       "       [ 9, 10, 11]])"
      ]
     },
     "execution_count": 2,
     "metadata": {},
     "output_type": "execute_result"
    }
   ],
   "source": [
    "#Noramal Indexing and Slicing\n",
    "import numpy as np\n",
    "a = np.arange(12).reshape(4,3)\n",
    "a"
   ]
  },
  {
   "cell_type": "code",
   "execution_count": 3,
   "id": "cb3fabe0-3a32-45ed-9c3e-ce1ba9bea249",
   "metadata": {},
   "outputs": [
    {
     "data": {
      "text/plain": [
       "5"
      ]
     },
     "execution_count": 3,
     "metadata": {},
     "output_type": "execute_result"
    }
   ],
   "source": [
    "a[1,2]"
   ]
  },
  {
   "cell_type": "code",
   "execution_count": 4,
   "id": "fec75bea-b330-4048-98e6-ca83f662d64c",
   "metadata": {},
   "outputs": [
    {
     "data": {
      "text/plain": [
       "array([[4, 5],\n",
       "       [7, 8]])"
      ]
     },
     "execution_count": 4,
     "metadata": {},
     "output_type": "execute_result"
    }
   ],
   "source": [
    "a[1:3,1:3]"
   ]
  },
  {
   "cell_type": "markdown",
   "id": "f747874a-16b1-41fd-9cfb-6260620085c7",
   "metadata": {},
   "source": [
    "Fancy Indexing"
   ]
  },
  {
   "cell_type": "code",
   "execution_count": 5,
   "id": "25721ab6-e6bf-49a5-883a-4d782ea50f02",
   "metadata": {},
   "outputs": [
    {
     "data": {
      "text/plain": [
       "array([[0, 1, 2],\n",
       "       [6, 7, 8]])"
      ]
     },
     "execution_count": 5,
     "metadata": {},
     "output_type": "execute_result"
    }
   ],
   "source": [
    "a[::2]"
   ]
  },
  {
   "cell_type": "code",
   "execution_count": 6,
   "id": "f8930cdb-f586-43f0-9383-77cb112fda1a",
   "metadata": {},
   "outputs": [
    {
     "data": {
      "text/plain": [
       "array([[ 0,  1,  2],\n",
       "       [ 6,  7,  8],\n",
       "       [ 9, 10, 11]])"
      ]
     },
     "execution_count": 6,
     "metadata": {},
     "output_type": "execute_result"
    }
   ],
   "source": [
    "a[[0,2,3]]"
   ]
  },
  {
   "cell_type": "code",
   "execution_count": 7,
   "id": "a9f94384-0b75-47c1-9e3e-9dc552c78188",
   "metadata": {},
   "outputs": [
    {
     "data": {
      "text/plain": [
       "array([[ 0,  1,  2],\n",
       "       [ 3,  4,  5],\n",
       "       [ 6,  7,  8],\n",
       "       [ 9, 10, 11]])"
      ]
     },
     "execution_count": 7,
     "metadata": {},
     "output_type": "execute_result"
    }
   ],
   "source": [
    "a"
   ]
  },
  {
   "cell_type": "code",
   "execution_count": 8,
   "id": "78718aca-8478-40d1-9412-3f2e960077ae",
   "metadata": {},
   "outputs": [],
   "source": [
    "a = np.arange(24).reshape(6,4)"
   ]
  },
  {
   "cell_type": "code",
   "execution_count": 9,
   "id": "42fafad3-dc46-4c48-a748-6a84202d6eda",
   "metadata": {},
   "outputs": [
    {
     "data": {
      "text/plain": [
       "array([[ 0,  1,  2,  3],\n",
       "       [ 4,  5,  6,  7],\n",
       "       [ 8,  9, 10, 11],\n",
       "       [12, 13, 14, 15],\n",
       "       [16, 17, 18, 19],\n",
       "       [20, 21, 22, 23]])"
      ]
     },
     "execution_count": 9,
     "metadata": {},
     "output_type": "execute_result"
    }
   ],
   "source": [
    "a"
   ]
  },
  {
   "cell_type": "code",
   "execution_count": 10,
   "id": "7dd8eb6f-3299-4498-8e5f-395f37ca77f6",
   "metadata": {},
   "outputs": [
    {
     "data": {
      "text/plain": [
       "array([[ 0,  1,  2,  3],\n",
       "       [ 8,  9, 10, 11],\n",
       "       [12, 13, 14, 15],\n",
       "       [20, 21, 22, 23]])"
      ]
     },
     "execution_count": 10,
     "metadata": {},
     "output_type": "execute_result"
    }
   ],
   "source": [
    "a[[0,2,3,5]]"
   ]
  },
  {
   "cell_type": "code",
   "execution_count": 11,
   "id": "9d4ba509-adc4-4e3a-9886-20b7caf9a5b5",
   "metadata": {},
   "outputs": [
    {
     "data": {
      "text/plain": [
       "array([[ 0,  2,  3],\n",
       "       [ 4,  6,  7],\n",
       "       [ 8, 10, 11],\n",
       "       [12, 14, 15],\n",
       "       [16, 18, 19],\n",
       "       [20, 22, 23]])"
      ]
     },
     "execution_count": 11,
     "metadata": {},
     "output_type": "execute_result"
    }
   ],
   "source": [
    "a[:,[0,2,3]]"
   ]
  },
  {
   "cell_type": "code",
   "execution_count": 12,
   "id": "b7e819da-e390-49e7-a963-8925462810b7",
   "metadata": {},
   "outputs": [],
   "source": [
    "# Boolean Indexing"
   ]
  },
  {
   "cell_type": "code",
   "execution_count": 13,
   "id": "07d52b20-5008-4cd6-97b9-4973b3e8de10",
   "metadata": {},
   "outputs": [
    {
     "data": {
      "text/plain": [
       "array([[61, 14, 64, 99],\n",
       "       [60, 18,  8, 39],\n",
       "       [52, 68, 60, 66],\n",
       "       [42, 22, 79, 47],\n",
       "       [92, 48, 41, 88],\n",
       "       [96, 48, 30, 20]])"
      ]
     },
     "execution_count": 13,
     "metadata": {},
     "output_type": "execute_result"
    }
   ],
   "source": [
    "import numpy as np\n",
    "a = np.random.randint(1,100,24).reshape(6,4)\n",
    "a"
   ]
  },
  {
   "cell_type": "code",
   "execution_count": 14,
   "id": "0a2b0b4c-6afc-44d1-bc38-d9b6aa7feca8",
   "metadata": {},
   "outputs": [],
   "source": [
    "# Find all numbers greater than 50"
   ]
  },
  {
   "cell_type": "code",
   "execution_count": 15,
   "id": "bae1239c-ef27-4187-ade4-09e6ae1ff2bb",
   "metadata": {},
   "outputs": [
    {
     "data": {
      "text/plain": [
       "array([[ True, False,  True,  True],\n",
       "       [ True, False, False, False],\n",
       "       [ True,  True,  True,  True],\n",
       "       [False, False,  True, False],\n",
       "       [ True, False, False,  True],\n",
       "       [ True, False, False, False]])"
      ]
     },
     "execution_count": 15,
     "metadata": {},
     "output_type": "execute_result"
    }
   ],
   "source": [
    "a > 50"
   ]
  },
  {
   "cell_type": "code",
   "execution_count": 16,
   "id": "cedf457f-26b8-4467-b4c2-ad875c245b0c",
   "metadata": {},
   "outputs": [
    {
     "data": {
      "text/plain": [
       "array([61, 64, 99, 60, 52, 68, 60, 66, 79, 92, 88, 96])"
      ]
     },
     "execution_count": 16,
     "metadata": {},
     "output_type": "execute_result"
    }
   ],
   "source": [
    "a[a>50]"
   ]
  },
  {
   "cell_type": "code",
   "execution_count": 18,
   "id": "c644ca40-28d1-4688-9db9-a8650669a0b2",
   "metadata": {},
   "outputs": [],
   "source": [
    "# Find out even numbers"
   ]
  },
  {
   "cell_type": "code",
   "execution_count": 19,
   "id": "95eca8f3-99d2-4583-a8cf-49c8be0e555a",
   "metadata": {},
   "outputs": [
    {
     "data": {
      "text/plain": [
       "array([[False,  True,  True, False],\n",
       "       [ True,  True,  True, False],\n",
       "       [ True,  True,  True,  True],\n",
       "       [ True,  True, False, False],\n",
       "       [ True,  True, False,  True],\n",
       "       [ True,  True,  True,  True]])"
      ]
     },
     "execution_count": 19,
     "metadata": {},
     "output_type": "execute_result"
    }
   ],
   "source": [
    "a% 2 == 0"
   ]
  },
  {
   "cell_type": "code",
   "execution_count": 20,
   "id": "cba57440-f026-4b99-9e32-e444dd8047e6",
   "metadata": {},
   "outputs": [
    {
     "data": {
      "text/plain": [
       "array([14, 64, 60, 18,  8, 52, 68, 60, 66, 42, 22, 92, 48, 88, 96, 48, 30,\n",
       "       20])"
      ]
     },
     "execution_count": 20,
     "metadata": {},
     "output_type": "execute_result"
    }
   ],
   "source": [
    "a[a % 2==0]"
   ]
  },
  {
   "cell_type": "code",
   "execution_count": 21,
   "id": "8bf81dab-3da6-4caf-8455-f2523aa1e0d8",
   "metadata": {},
   "outputs": [],
   "source": [
    "# Find all numbers greater than 50 and are even"
   ]
  },
  {
   "cell_type": "code",
   "execution_count": 22,
   "id": "f3b80055-a9f7-4c50-9de8-f1af0d04c213",
   "metadata": {},
   "outputs": [
    {
     "data": {
      "text/plain": [
       "array([[False, False,  True, False],\n",
       "       [ True, False, False, False],\n",
       "       [ True,  True,  True,  True],\n",
       "       [False, False, False, False],\n",
       "       [ True, False, False,  True],\n",
       "       [ True, False, False, False]])"
      ]
     },
     "execution_count": 22,
     "metadata": {},
     "output_type": "execute_result"
    }
   ],
   "source": [
    "(a>50) & (a%2==0)"
   ]
  },
  {
   "cell_type": "code",
   "execution_count": 24,
   "id": "7a029c9a-e835-4e8f-aee3-55c852258ddd",
   "metadata": {},
   "outputs": [
    {
     "data": {
      "text/plain": [
       "array([64, 60, 52, 68, 60, 66, 92, 88, 96])"
      ]
     },
     "execution_count": 24,
     "metadata": {},
     "output_type": "execute_result"
    }
   ],
   "source": [
    "a[(a>50) & (a % 2== 0)]"
   ]
  },
  {
   "cell_type": "code",
   "execution_count": 25,
   "id": "db2f5f6c-25ae-4bcc-9a76-0c08f667d882",
   "metadata": {},
   "outputs": [],
   "source": [
    "#Find all numbers  divisbile by 7"
   ]
  },
  {
   "cell_type": "code",
   "execution_count": 28,
   "id": "e05b0e19-3e22-4ae4-b99d-3990a1537aad",
   "metadata": {},
   "outputs": [
    {
     "data": {
      "text/plain": [
       "array([14, 42])"
      ]
     },
     "execution_count": 28,
     "metadata": {},
     "output_type": "execute_result"
    }
   ],
   "source": [
    "a[a%7==0]"
   ]
  },
  {
   "cell_type": "markdown",
   "id": "ea6e98f8-254b-41a9-93cb-6b8a90043ac0",
   "metadata": {},
   "source": [
    "Broadcasting"
   ]
  },
  {
   "cell_type": "code",
   "execution_count": 29,
   "id": "60c0b4f1-6c4e-40a7-a6e2-53b9ff07f761",
   "metadata": {},
   "outputs": [],
   "source": [
    "#The term broadcasting describes how NumPy treats array with different shapes during arithmetic operations\n",
    "# The smaller array is \"broadcast\" across the larger array so that they have compatible shapes."
   ]
  },
  {
   "cell_type": "code",
   "execution_count": 33,
   "id": "620583ac-7ee6-4a71-83ec-86f6edb90575",
   "metadata": {},
   "outputs": [
    {
     "name": "stdout",
     "output_type": "stream",
     "text": [
      "[[0 1 2]\n",
      " [3 4 5]]\n",
      "\n",
      "[[ 6  7  8]\n",
      " [ 9 10 11]]\n",
      "\n",
      "[[ 6  8 10]\n",
      " [12 14 16]]\n"
     ]
    }
   ],
   "source": [
    "#same shape\n",
    "a =np.arange(6).reshape(2,3)\n",
    "b = np.arange(6,12).reshape(2,3)\n",
    "print(a)\n",
    "print()\n",
    "print(b)\n",
    "print()\n",
    "print(a+b)"
   ]
  },
  {
   "cell_type": "code",
   "execution_count": 35,
   "id": "f7492ace-a95a-4051-80c7-f28a971aed97",
   "metadata": {},
   "outputs": [
    {
     "name": "stdout",
     "output_type": "stream",
     "text": [
      "[[0 1 2]\n",
      " [3 4 5]]\n",
      "\n",
      "[[0 1 2]]\n",
      "\n",
      "[[0 2 4]\n",
      " [3 5 7]]\n"
     ]
    }
   ],
   "source": [
    "a =np.arange(6).reshape(2,3)\n",
    "b = np.arange(3).reshape(1,3)\n",
    "print(a)\n",
    "print()\n",
    "print(b)\n",
    "print()\n",
    "print(a+b)"
   ]
  },
  {
   "cell_type": "markdown",
   "id": "1f44605d-d0ec-41ed-89c9-9d01929c6c3b",
   "metadata": {},
   "source": [
    "Broadcasting Rules"
   ]
  },
  {
   "cell_type": "code",
   "execution_count": 36,
   "id": "6a3b6593-bdee-47dc-bcd3-ad1e6275ae1a",
   "metadata": {},
   "outputs": [],
   "source": [
    "# 1. Make the two arrays have the same number of dimensions.\n",
    "#  -> If the number of dimensions of the two arrays are different , add new dimensions with size 1 \n",
    "#      the head of the array with the smaller dimension."
   ]
  },
  {
   "cell_type": "code",
   "execution_count": 37,
   "id": "fde52e00-1ba1-4991-a989-a9796dc0c7c7",
   "metadata": {},
   "outputs": [],
   "source": [
    "# 2. Make each dimension of the two arrays the same size.\n",
    "# ->  If the sizes of each dimension of the two arrays do not match,dimesions with size 1\n",
    "#     are stretched to the size of the other array.\n",
    "# ->  If there is a dimension whose size is not 1 in either of the two arrays, it cannot be\n",
    "#     be broadcasted , and an error is raised."
   ]
  },
  {
   "cell_type": "code",
   "execution_count": 38,
   "id": "0f07fc03-37df-427a-9bf2-8d80ae0ea3d3",
   "metadata": {},
   "outputs": [],
   "source": [
    "# More Examples\n"
   ]
  },
  {
   "cell_type": "code",
   "execution_count": 40,
   "id": "15fcc4e9-012e-436d-9104-c67c87ee2bbc",
   "metadata": {},
   "outputs": [
    {
     "name": "stdout",
     "output_type": "stream",
     "text": [
      "[[ 0  1  2]\n",
      " [ 3  4  5]\n",
      " [ 6  7  8]\n",
      " [ 9 10 11]]\n",
      "\n",
      "[0 1 2]\n",
      "\n",
      "[[ 0  2  4]\n",
      " [ 3  5  7]\n",
      " [ 6  8 10]\n",
      " [ 9 11 13]]\n"
     ]
    }
   ],
   "source": [
    "a = np.arange(12).reshape(4,3)\n",
    "b =np.arange(3)\n",
    "print(a)\n",
    "print()\n",
    "print(b)\n",
    "print()\n",
    "print(a+b)"
   ]
  },
  {
   "cell_type": "code",
   "execution_count": 41,
   "id": "de0f0383-097f-4af2-a628-85a120ff2bf9",
   "metadata": {},
   "outputs": [
    {
     "name": "stdout",
     "output_type": "stream",
     "text": [
      "[[ 0  1  2  3]\n",
      " [ 4  5  6  7]\n",
      " [ 8  9 10 11]]\n",
      "\n",
      "[0 1 2]\n",
      "\n"
     ]
    },
    {
     "ename": "ValueError",
     "evalue": "operands could not be broadcast together with shapes (3,4) (3,) ",
     "output_type": "error",
     "traceback": [
      "\u001b[1;31m---------------------------------------------------------------------------\u001b[0m",
      "\u001b[1;31mValueError\u001b[0m                                Traceback (most recent call last)",
      "Cell \u001b[1;32mIn[41], line 7\u001b[0m\n\u001b[0;32m      5\u001b[0m \u001b[38;5;28mprint\u001b[39m(b)\n\u001b[0;32m      6\u001b[0m \u001b[38;5;28mprint\u001b[39m()\n\u001b[1;32m----> 7\u001b[0m \u001b[38;5;28mprint\u001b[39m(a\u001b[38;5;241m+\u001b[39mb)\n",
      "\u001b[1;31mValueError\u001b[0m: operands could not be broadcast together with shapes (3,4) (3,) "
     ]
    }
   ],
   "source": [
    "a = np.arange(12).reshape(3,4)\n",
    "b =np.arange(3)\n",
    "print(a)\n",
    "print()\n",
    "print(b)\n",
    "print()\n",
    "print(a+b)"
   ]
  },
  {
   "cell_type": "code",
   "execution_count": 42,
   "id": "8498b8cd-4d1b-43e8-ac17-a7df48e8b09d",
   "metadata": {},
   "outputs": [
    {
     "name": "stdout",
     "output_type": "stream",
     "text": [
      "[[0 1 2]]\n",
      "\n",
      "[[0]\n",
      " [1]\n",
      " [2]]\n",
      "\n",
      "[[0 1 2]\n",
      " [1 2 3]\n",
      " [2 3 4]]\n"
     ]
    }
   ],
   "source": [
    "a = np.arange(3).reshape(1,3)\n",
    "b = np.arange(3).reshape(3,1)\n",
    "print(a)\n",
    "print()\n",
    "print(b)\n",
    "print()\n",
    "print(a+b)"
   ]
  },
  {
   "cell_type": "code",
   "execution_count": 44,
   "id": "1aded029-53ea-47f0-804c-2bdb30ad2985",
   "metadata": {},
   "outputs": [
    {
     "name": "stdout",
     "output_type": "stream",
     "text": [
      "[[0 1 2]]\n",
      "\n",
      "[[0]\n",
      " [1]\n",
      " [2]\n",
      " [3]]\n",
      "\n",
      "[[0 1 2]\n",
      " [1 2 3]\n",
      " [2 3 4]\n",
      " [3 4 5]]\n"
     ]
    }
   ],
   "source": [
    "a = np.arange(3).reshape(1,3)\n",
    "b = np.arange(4).reshape(4,1)\n",
    "print(a)\n",
    "print()\n",
    "print(b)\n",
    "print()\n",
    "print(a+b)"
   ]
  },
  {
   "cell_type": "code",
   "execution_count": 45,
   "id": "2c7d895a-e203-4f1b-95cb-563022c7a2b9",
   "metadata": {},
   "outputs": [
    {
     "name": "stdout",
     "output_type": "stream",
     "text": [
      "[1]\n",
      "\n",
      "[[0 1]\n",
      " [2 3]]\n",
      "\n",
      "[[1 2]\n",
      " [3 4]]\n"
     ]
    }
   ],
   "source": [
    " a= np.array([1])\n",
    "# shape -> (1,1)\n",
    "b =np.arange(4).reshape(2,2)\n",
    "# shape -> (2,2)\n",
    "print(a)\n",
    "print()\n",
    "print(b)\n",
    "print()\n",
    "print(a+b)"
   ]
  },
  {
   "cell_type": "code",
   "execution_count": 46,
   "id": "7e68d623-952e-4d8f-a144-320609bde9bd",
   "metadata": {},
   "outputs": [
    {
     "name": "stdout",
     "output_type": "stream",
     "text": [
      "[[ 0  1  2  3]\n",
      " [ 4  5  6  7]\n",
      " [ 8  9 10 11]]\n",
      "\n",
      "[[ 0  1  2]\n",
      " [ 3  4  5]\n",
      " [ 6  7  8]\n",
      " [ 9 10 11]]\n",
      "\n"
     ]
    },
    {
     "ename": "ValueError",
     "evalue": "operands could not be broadcast together with shapes (3,4) (4,3) ",
     "output_type": "error",
     "traceback": [
      "\u001b[1;31m---------------------------------------------------------------------------\u001b[0m",
      "\u001b[1;31mValueError\u001b[0m                                Traceback (most recent call last)",
      "Cell \u001b[1;32mIn[46], line 7\u001b[0m\n\u001b[0;32m      5\u001b[0m \u001b[38;5;28mprint\u001b[39m(b)\n\u001b[0;32m      6\u001b[0m \u001b[38;5;28mprint\u001b[39m()\n\u001b[1;32m----> 7\u001b[0m \u001b[38;5;28mprint\u001b[39m(a\u001b[38;5;241m+\u001b[39mb)\n",
      "\u001b[1;31mValueError\u001b[0m: operands could not be broadcast together with shapes (3,4) (4,3) "
     ]
    }
   ],
   "source": [
    "a = np.arange(12).reshape(3,4)\n",
    "b = np.arange(12).reshape(4,3)\n",
    "print(a)\n",
    "print()\n",
    "print(b)\n",
    "print()\n",
    "print(a+b)"
   ]
  },
  {
   "cell_type": "code",
   "execution_count": 47,
   "id": "cdcf9402-aff8-4564-aff8-16e26712ecef",
   "metadata": {},
   "outputs": [
    {
     "name": "stdout",
     "output_type": "stream",
     "text": [
      "[[ 0  1  2  3]\n",
      " [ 4  5  6  7]\n",
      " [ 8  9 10 11]\n",
      " [12 13 14 15]]\n",
      "\n",
      "[[0 1]\n",
      " [2 3]]\n",
      "\n"
     ]
    },
    {
     "ename": "ValueError",
     "evalue": "operands could not be broadcast together with shapes (4,4) (2,2) ",
     "output_type": "error",
     "traceback": [
      "\u001b[1;31m---------------------------------------------------------------------------\u001b[0m",
      "\u001b[1;31mValueError\u001b[0m                                Traceback (most recent call last)",
      "Cell \u001b[1;32mIn[47], line 7\u001b[0m\n\u001b[0;32m      5\u001b[0m \u001b[38;5;28mprint\u001b[39m(b)\n\u001b[0;32m      6\u001b[0m \u001b[38;5;28mprint\u001b[39m()\n\u001b[1;32m----> 7\u001b[0m \u001b[38;5;28mprint\u001b[39m(a\u001b[38;5;241m+\u001b[39mb)\n",
      "\u001b[1;31mValueError\u001b[0m: operands could not be broadcast together with shapes (4,4) (2,2) "
     ]
    }
   ],
   "source": [
    "a = np.arange(16).reshape(4,4)\n",
    "b = np.arange(4).reshape(2,2)\n",
    "print(a)\n",
    "print()\n",
    "print(b)\n",
    "print()\n",
    "print(a+b)"
   ]
  },
  {
   "cell_type": "code",
   "execution_count": null,
   "id": "8ed2c67d-3bc6-4622-bc58-7ce2705579a0",
   "metadata": {},
   "outputs": [],
   "source": []
  }
 ],
 "metadata": {
  "kernelspec": {
   "display_name": "Python 3 (ipykernel)",
   "language": "python",
   "name": "python3"
  },
  "language_info": {
   "codemirror_mode": {
    "name": "ipython",
    "version": 3
   },
   "file_extension": ".py",
   "mimetype": "text/x-python",
   "name": "python",
   "nbconvert_exporter": "python",
   "pygments_lexer": "ipython3",
   "version": "3.11.7"
  }
 },
 "nbformat": 4,
 "nbformat_minor": 5
}
